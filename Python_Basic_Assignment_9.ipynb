{
 "cells": [
  {
   "cell_type": "markdown",
   "metadata": {},
   "source": [
    "1) To what does a relative path refer?"
   ]
  },
  {
   "cell_type": "code",
   "execution_count": 1,
   "metadata": {},
   "outputs": [],
   "source": [
    "\"\"\"The relative path refers to path with respect to some starting point.\"\"\"\n",
    "import os"
   ]
  },
  {
   "cell_type": "code",
   "execution_count": 2,
   "metadata": {},
   "outputs": [
    {
     "data": {
      "text/plain": [
       "'C:\\\\Users\\\\User\\\\iNeuron Full Stack Data Science\\\\Assignments\\\\Python_Basic'"
      ]
     },
     "execution_count": 2,
     "metadata": {},
     "output_type": "execute_result"
    }
   ],
   "source": [
    "pwd()"
   ]
  },
  {
   "cell_type": "code",
   "execution_count": 5,
   "metadata": {},
   "outputs": [],
   "source": [
    "path=\"iNeuron Full Stack Data Science\\\\Assignments\\\\Python_Basic\""
   ]
  },
  {
   "cell_type": "code",
   "execution_count": 7,
   "metadata": {},
   "outputs": [],
   "source": [
    "starting=\"iNeuron Full Stack Data Science\"\n",
    "rel_path=os.path.relpath(path,starting)"
   ]
  },
  {
   "cell_type": "code",
   "execution_count": 10,
   "metadata": {},
   "outputs": [
    {
     "name": "stdout",
     "output_type": "stream",
     "text": [
      "Assignments\\Python_Basic\n"
     ]
    }
   ],
   "source": [
    "#Here we print the path with respect to the starting point \n",
    "print(rel_path)"
   ]
  },
  {
   "cell_type": "markdown",
   "metadata": {},
   "source": [
    "2) What does an absolute path start with your operating system?\n"
   ]
  },
  {
   "cell_type": "code",
   "execution_count": 12,
   "metadata": {},
   "outputs": [
    {
     "data": {
      "text/plain": [
       "'Absolute path refers to the complete details needed to locate the file starting with Local Drive, Directories, Sub Directories, File name...'"
      ]
     },
     "execution_count": 12,
     "metadata": {},
     "output_type": "execute_result"
    }
   ],
   "source": [
    "\"\"\"Absolute path refers to the complete details needed to locate the file starting with Local Drive, Directories, Sub Directories, File name...\"\"\""
   ]
  },
  {
   "cell_type": "code",
   "execution_count": 13,
   "metadata": {},
   "outputs": [
    {
     "data": {
      "text/plain": [
       "'C:\\\\Users\\\\User\\\\iNeuron Full Stack Data Science\\\\Assignments\\\\Python_Basic'"
      ]
     },
     "execution_count": 13,
     "metadata": {},
     "output_type": "execute_result"
    }
   ],
   "source": [
    "pwd()"
   ]
  },
  {
   "cell_type": "code",
   "execution_count": 15,
   "metadata": {},
   "outputs": [
    {
     "data": {
      "text/plain": [
       "'C:\\\\Users\\\\User\\\\iNeuron Full Stack Data Science\\\\Assignments\\\\Python_Basic\\\\iNeuron Full Stack Data Science'"
      ]
     },
     "execution_count": 15,
     "metadata": {},
     "output_type": "execute_result"
    }
   ],
   "source": [
    "#Here we gave an directory name and it gave the absolute path of the directory mentioned\n",
    "os.path.abspath(starting)"
   ]
  },
  {
   "cell_type": "markdown",
   "metadata": {},
   "source": [
    "3) What do the functions os.getcwd() and os.chdir() do?"
   ]
  },
  {
   "cell_type": "code",
   "execution_count": 18,
   "metadata": {},
   "outputs": [
    {
     "data": {
      "text/plain": [
       "'C:\\\\Users\\\\User\\\\iNeuron Full Stack Data Science\\\\Assignments\\\\Python_Basic'"
      ]
     },
     "execution_count": 18,
     "metadata": {},
     "output_type": "execute_result"
    }
   ],
   "source": [
    "#os.getcwd() --> gives the current working directory\n",
    "#os.chdir() --> changes to the given directory mentioned\n",
    "os.getcwd()"
   ]
  },
  {
   "cell_type": "code",
   "execution_count": 21,
   "metadata": {},
   "outputs": [],
   "source": [
    "os.chdir(\"C:\\\\Users\\\\User\\\\iNeuron Full Stack Data Science\\\\Notebooks\\\\FileAutomation\")"
   ]
  },
  {
   "cell_type": "code",
   "execution_count": 23,
   "metadata": {},
   "outputs": [
    {
     "data": {
      "text/plain": [
       "'C:\\\\Users\\\\User\\\\iNeuron Full Stack Data Science\\\\Notebooks\\\\FileAutomation'"
      ]
     },
     "execution_count": 23,
     "metadata": {},
     "output_type": "execute_result"
    }
   ],
   "source": [
    "#So the directory has changed from Assignments folder to the Notebooks folder\n",
    "os.getcwd()"
   ]
  },
  {
   "cell_type": "markdown",
   "metadata": {},
   "source": [
    "4) What are the . and .. folders?"
   ]
  },
  {
   "cell_type": "code",
   "execution_count": 24,
   "metadata": {},
   "outputs": [],
   "source": [
    "# \\.\\flodername indicates the current working directory\n",
    "# \\..\\flodername indicates the parent directory"
   ]
  },
  {
   "cell_type": "markdown",
   "metadata": {},
   "source": [
    "5) In C:\\bacon\\eggs\\spam.txt, which part is the dir name, and which part is the base name?\n"
   ]
  },
  {
   "cell_type": "code",
   "execution_count": 25,
   "metadata": {},
   "outputs": [],
   "source": [
    "#C:\\bacon\\eggs\\ indicates the Directory name\n",
    "#spam.txt indicates the Base name"
   ]
  },
  {
   "cell_type": "markdown",
   "metadata": {},
   "source": [
    "6) What are the three “mode” arguments that can be passed to the open() function?"
   ]
  },
  {
   "cell_type": "code",
   "execution_count": 26,
   "metadata": {},
   "outputs": [
    {
     "name": "stdout",
     "output_type": "stream",
     "text": [
      "INFO:root:This is my addition function\n",
      "\n",
      "INFO:root:5\n",
      "\n",
      "INFO:root:15\n",
      "\n",
      "INFO:root:3\n",
      "\n",
      "INFO:root:4\n",
      "\n",
      "INFO:root:5\n",
      "\n",
      "INFO:root:6\n",
      "\n",
      "INFO:root:5\n",
      "\n",
      "INFO:root:main log\n",
      "\n",
      "INFO:user1:this is from user1 info\n",
      "\n"
     ]
    }
   ],
   "source": [
    "#'r' --> Reading\n",
    "#'w' --> Writing\n",
    "#'a' --> appending\n",
    "os.chdir(\"C:\\\\Users\\\\User\\\\iNeuron Full Stack Data Science\")\n",
    "file= open(\"C:\\\\Users\\\\User\\\\iNeuron Full Stack Data Science\\\\test1.log\",'r')\n",
    "for each in file:\n",
    "    print(each)"
   ]
  },
  {
   "cell_type": "code",
   "execution_count": 27,
   "metadata": {},
   "outputs": [],
   "source": [
    "file1=open(\"Dattu.txt\",'w')\n",
    "file1.write(\"Whats up!!! I need to increase my learning rate\")\n",
    "file1.close()"
   ]
  },
  {
   "cell_type": "code",
   "execution_count": 28,
   "metadata": {},
   "outputs": [
    {
     "name": "stdout",
     "output_type": "stream",
     "text": [
      "Whats up!!! I need to increase my learning rate\n"
     ]
    }
   ],
   "source": [
    "file= open(\"C:\\\\Users\\\\User\\\\iNeuron Full Stack Data Science\\\\Dattu.txt\",'r')\n",
    "for each in file:\n",
    "    print(each)"
   ]
  },
  {
   "cell_type": "code",
   "execution_count": 29,
   "metadata": {},
   "outputs": [],
   "source": [
    "file1=open(\"Dattu.txt\",'a')\n",
    "file1.write(\"Heyyy man... just focus on the process, don't think of the speed\")\n",
    "file1.close()"
   ]
  },
  {
   "cell_type": "code",
   "execution_count": 30,
   "metadata": {},
   "outputs": [
    {
     "name": "stdout",
     "output_type": "stream",
     "text": [
      "Whats up!!! I need to increase my learning rateHeyyy man... just focus on the process, don't think of the speed\n"
     ]
    }
   ],
   "source": [
    "file= open(\"C:\\\\Users\\\\User\\\\iNeuron Full Stack Data Science\\\\Dattu.txt\",'r')\n",
    "for each in file:\n",
    "    print(each)"
   ]
  },
  {
   "cell_type": "markdown",
   "metadata": {},
   "source": [
    "7) What happens if an existing file is opened in write mode?\n"
   ]
  },
  {
   "cell_type": "code",
   "execution_count": 31,
   "metadata": {},
   "outputs": [],
   "source": [
    "#It will erase all the data or text written in that file. It writes what is written in the command by removing all the past text"
   ]
  },
  {
   "cell_type": "markdown",
   "metadata": {},
   "source": [
    "8) How do you tell the difference between read() and readlines()?\n"
   ]
  },
  {
   "cell_type": "code",
   "execution_count": 39,
   "metadata": {},
   "outputs": [
    {
     "name": "stdout",
     "output_type": "stream",
     "text": [
      "INFO:root:This is my addition function\n",
      "\n"
     ]
    }
   ],
   "source": [
    "#reads first line\n",
    "file= open(\"C:\\\\Users\\\\User\\\\iNeuron Full Stack Data Science\\\\test1.log\",'r')\n",
    "reads_the_1st_line=file.readline()\n",
    "print(reads_the_1st_line)\n",
    "file.close()"
   ]
  },
  {
   "cell_type": "code",
   "execution_count": 41,
   "metadata": {},
   "outputs": [
    {
     "name": "stdout",
     "output_type": "stream",
     "text": [
      "['INFO:root:This is my addition function\\n', 'INFO:root:5\\n', 'INFO:root:15\\n', 'INFO:root:3\\n', 'INFO:root:4\\n', 'INFO:root:5\\n', 'INFO:root:6\\n', 'INFO:root:5\\n', 'INFO:root:main log\\n', 'INFO:user1:this is from user1 info\\n']\n"
     ]
    }
   ],
   "source": [
    "#reads all the lines\n",
    "file= open(\"C:\\\\Users\\\\User\\\\iNeuron Full Stack Data Science\\\\test1.log\",'r')\n",
    "reads_all_the_line=file.readlines()\n",
    "print(reads_all_the_line)\n",
    "file.close()"
   ]
  },
  {
   "cell_type": "code",
   "execution_count": 42,
   "metadata": {},
   "outputs": [
    {
     "name": "stdout",
     "output_type": "stream",
     "text": [
      "INFO:root:This is my addition function\n",
      "INFO:root:5\n",
      "INFO:root:15\n",
      "INFO:root:3\n",
      "INFO:root:4\n",
      "INFO:root:5\n",
      "INFO:root:6\n",
      "INFO:root:5\n",
      "INFO:root:main log\n",
      "INFO:user1:this is from user1 info\n",
      "\n"
     ]
    }
   ],
   "source": [
    "file= open(\"C:\\\\Users\\\\User\\\\iNeuron Full Stack Data Science\\\\test1.log\",'r')\n",
    "reads_the_file=file.read()\n",
    "print(reads_the_file)"
   ]
  },
  {
   "cell_type": "markdown",
   "metadata": {},
   "source": [
    "9) What data structure does a shelf value resemble?\n"
   ]
  },
  {
   "cell_type": "code",
   "execution_count": 43,
   "metadata": {},
   "outputs": [
    {
     "data": {
      "text/plain": [
       "'A shelf value resembles a dictionary value; it has keys and values, along with keys() and values() methods that work similarly to the dictionary methods of the same names.'"
      ]
     },
     "execution_count": 43,
     "metadata": {},
     "output_type": "execute_result"
    }
   ],
   "source": [
    "\"\"\"A shelf value resembles a dictionary value; it has keys and values, along with keys() and values() methods that work similarly to the dictionary methods of the same names.\"\"\""
   ]
  },
  {
   "cell_type": "code",
   "execution_count": null,
   "metadata": {},
   "outputs": [],
   "source": []
  }
 ],
 "metadata": {
  "kernelspec": {
   "display_name": "Python 3",
   "language": "python",
   "name": "python3"
  },
  "language_info": {
   "codemirror_mode": {
    "name": "ipython",
    "version": 3
   },
   "file_extension": ".py",
   "mimetype": "text/x-python",
   "name": "python",
   "nbconvert_exporter": "python",
   "pygments_lexer": "ipython3",
   "version": "3.8.3"
  }
 },
 "nbformat": 4,
 "nbformat_minor": 4
}
