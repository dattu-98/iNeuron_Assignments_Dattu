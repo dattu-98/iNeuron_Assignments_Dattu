{
 "cells": [
  {
   "cell_type": "markdown",
   "metadata": {},
   "source": [
    "1) What advantages do Excel spreadsheets have over CSV spreadsheets?"
   ]
  },
  {
   "cell_type": "code",
   "execution_count": 1,
   "metadata": {},
   "outputs": [
    {
     "data": {
      "text/plain": [
       "'1) Excel can connect to External Data Sources fetch data from the resources\\n2) Data can be stored in the form of Graphs, charts and manipulate the data accordingly\\n3) As data is stored in a particular Cells, rows & columns. Large files can be easily understood by the end user\\n4) We can manipulate the data using Formulae with minimal effort in the Excel application'"
      ]
     },
     "execution_count": 1,
     "metadata": {},
     "output_type": "execute_result"
    }
   ],
   "source": [
    "\"\"\"1) Excel can connect to External Data Sources fetch data from the resources\n",
    "2) Data can be stored in the form of Graphs, charts and manipulate the data accordingly\n",
    "3) As data is stored in a particular Cells, rows & columns. Large files can be easily understood by the end user\n",
    "4) We can manipulate the data using Formulae with minimal effort in the Excel application\"\"\""
   ]
  },
  {
   "cell_type": "markdown",
   "metadata": {},
   "source": [
    "2) What do you pass to csv.reader() and csv.writer() to create reader and writer objects?"
   ]
  },
  {
   "cell_type": "code",
   "execution_count": 2,
   "metadata": {},
   "outputs": [],
   "source": [
    "import csv"
   ]
  },
  {
   "cell_type": "code",
   "execution_count": 3,
   "metadata": {},
   "outputs": [],
   "source": [
    "import os"
   ]
  },
  {
   "cell_type": "code",
   "execution_count": 4,
   "metadata": {},
   "outputs": [],
   "source": [
    "os.chdir('F:\\Data Science\\Data Analysis\\Data Set\\GT')"
   ]
  },
  {
   "cell_type": "code",
   "execution_count": 5,
   "metadata": {},
   "outputs": [],
   "source": [
    "file_name=\"CA.csv\""
   ]
  },
  {
   "cell_type": "code",
   "execution_count": 14,
   "metadata": {},
   "outputs": [
    {
     "name": "stdout",
     "output_type": "stream",
     "text": [
      "Field names are: ProductID, Date, Zip, Units, Revenue, Country\n",
      "************************\n",
      "ProductID     Date      Zip    Units  Revenue  Country \n",
      "\n",
      "['725', '1/15/1999', 'H1B', '1', '115.4475', 'Canada']\n",
      "['2235', '1/15/1999', 'H1B', '2', '131.145', 'Canada']\n",
      "['713', '1/15/1999', 'H1B', '1', '160.0725', 'Canada']\n",
      "['574', '06-05-2002', 'H1B', '1', '869.1375', 'Canada']\n",
      "['94', '2/15/1999', 'H1B', '1', '866.25', 'Canada']\n",
      "['609', '2/15/1999', 'H1B', '1', '778.8375', 'Canada']\n",
      "['2064', '3/15/1999', 'H1B', '2', '976.395', 'Canada']\n",
      "['714', '1/15/1999', 'H1B', '1', '160.0725', 'Canada']\n",
      "['826', '5/31/2002', 'H1B', '1', '944.9475', 'Canada']\n",
      "['2149', '06-06-2002', 'H1B', '2', '871.395', 'Canada']\n",
      "['992', '2/15/1999', 'H1B', '1', '288.6975', 'Canada']\n",
      "\n",
      "\n"
     ]
    }
   ],
   "source": [
    "columns=[]\n",
    "rows=[]\n",
    "with open(file_name,'r') as csvfile:\n",
    "    csv_read=csv.reader(csvfile)\n",
    "    columns=next(csv_read)\n",
    "    for row in csv_read:\n",
    "        rows.append(row)\n",
    "    print(\"Field names are: \"+', '.join(field for field in columns))\n",
    "    print('************************')\n",
    "for col in columns:\n",
    "    print(\"%8s\"%col,end=' ')\n",
    "print('\\n')\n",
    "for row in rows:\n",
    "    print(row),\n",
    "print('\\n')"
   ]
  },
  {
   "cell_type": "code",
   "execution_count": 16,
   "metadata": {},
   "outputs": [],
   "source": [
    "column_names=['Name','College']\n",
    "rows=[['Dattu','MNIT Jaipur'],['Pratyusha','Amrita University']]\n",
    "file_name='Students_data.csv'\n",
    "with open(file_name,'w') as csvfile:\n",
    "    csv_write=csv.writer(csvfile)\n",
    "    csv_write.writerow(column_names)\n",
    "    csv_write.writerows(rows)"
   ]
  },
  {
   "cell_type": "markdown",
   "metadata": {},
   "source": [
    "3) What modes do File objects for reader and writer objects need to be opened in?"
   ]
  },
  {
   "cell_type": "code",
   "execution_count": 17,
   "metadata": {},
   "outputs": [
    {
     "data": {
      "text/plain": [
       "\"Reader objects are opened in read 'r' format\\nWriter objects are written in Write 'w' format\""
      ]
     },
     "execution_count": 17,
     "metadata": {},
     "output_type": "execute_result"
    }
   ],
   "source": [
    "\"\"\"Reader objects are opened in read 'r' format\n",
    "Writer objects are written in Write 'w' format\"\"\"\n"
   ]
  },
  {
   "cell_type": "markdown",
   "metadata": {},
   "source": [
    "4) What method takes a list argument and writes it to a CSV file?"
   ]
  },
  {
   "cell_type": "code",
   "execution_count": 18,
   "metadata": {},
   "outputs": [
    {
     "data": {
      "text/plain": [
       "'writerows()'"
      ]
     },
     "execution_count": 18,
     "metadata": {},
     "output_type": "execute_result"
    }
   ],
   "source": [
    "\"\"\"writerows()\"\"\""
   ]
  },
  {
   "cell_type": "markdown",
   "metadata": {},
   "source": [
    "5) What do the keyword arguments delimiter and line terminator do?"
   ]
  },
  {
   "cell_type": "code",
   "execution_count": 20,
   "metadata": {},
   "outputs": [
    {
     "data": {
      "text/plain": [
       "'Delimeter is the character that appears between cells in a row.\\nLine terminator is the character that comes at the end of the row.'"
      ]
     },
     "execution_count": 20,
     "metadata": {},
     "output_type": "execute_result"
    }
   ],
   "source": [
    "\"\"\"Delimeter is the character that appears between cells in a row.\n",
    "Line terminator is the character that comes at the end of the row.\"\"\""
   ]
  },
  {
   "cell_type": "code",
   "execution_count": 21,
   "metadata": {},
   "outputs": [
    {
     "name": "stdout",
     "output_type": "stream",
     "text": [
      "Object `structure` not found.\n"
     ]
    }
   ],
   "source": [
    "6) What function takes a string of JSON data and returns a Python data structure?"
   ]
  },
  {
   "cell_type": "markdown",
   "metadata": {},
   "source": [
    "6) What function takes a string of JSON data and returns a Python data structure"
   ]
  },
  {
   "cell_type": "code",
   "execution_count": 22,
   "metadata": {},
   "outputs": [],
   "source": [
    "import json"
   ]
  },
  {
   "cell_type": "code",
   "execution_count": 24,
   "metadata": {},
   "outputs": [
    {
     "data": {
      "text/plain": [
       "'json.loads() is used for decoding JSON Data to Python Data Structure'"
      ]
     },
     "execution_count": 24,
     "metadata": {},
     "output_type": "execute_result"
    }
   ],
   "source": [
    "\"\"\"json.loads() is used for decoding JSON Data to Python Data Structure\"\"\""
   ]
  },
  {
   "cell_type": "markdown",
   "metadata": {},
   "source": [
    "7) What function takes a Python data structure and returns a string of JSON data?"
   ]
  },
  {
   "cell_type": "code",
   "execution_count": 25,
   "metadata": {},
   "outputs": [
    {
     "data": {
      "text/plain": [
       "'json.dumps() function is used to encode to JSON Data'"
      ]
     },
     "execution_count": 25,
     "metadata": {},
     "output_type": "execute_result"
    }
   ],
   "source": [
    "\"\"\"json.dumps() function is used to encode to JSON Data\"\"\""
   ]
  },
  {
   "cell_type": "code",
   "execution_count": null,
   "metadata": {},
   "outputs": [],
   "source": []
  }
 ],
 "metadata": {
  "kernelspec": {
   "display_name": "Python 3",
   "language": "python",
   "name": "python3"
  },
  "language_info": {
   "codemirror_mode": {
    "name": "ipython",
    "version": 3
   },
   "file_extension": ".py",
   "mimetype": "text/x-python",
   "name": "python",
   "nbconvert_exporter": "python",
   "pygments_lexer": "ipython3",
   "version": "3.8.3"
  }
 },
 "nbformat": 4,
 "nbformat_minor": 4
}
