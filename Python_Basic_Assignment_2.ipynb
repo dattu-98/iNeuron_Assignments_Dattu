{
 "cells": [
  {
   "cell_type": "markdown",
   "metadata": {},
   "source": [
    "1.What are the two values of the Boolean data type? How do you write them?\n"
   ]
  },
  {
   "cell_type": "code",
   "execution_count": 1,
   "metadata": {},
   "outputs": [
    {
     "name": "stdout",
     "output_type": "stream",
     "text": [
      "Sun rises East is True & Sun rises west is False\n"
     ]
    }
   ],
   "source": [
    "sun_rises_east=True\n",
    "sun_rises_west=False\n",
    "if sun_rises_east==True:\n",
    "    print(\"Sun rises East is {} & Sun rises west is {}\".format(sun_rises_east,sun_rises_west))"
   ]
  },
  {
   "cell_type": "markdown",
   "metadata": {},
   "source": [
    "2. What are the three different types of Boolean operators?\n"
   ]
  },
  {
   "cell_type": "code",
   "execution_count": 2,
   "metadata": {},
   "outputs": [
    {
     "name": "stdout",
     "output_type": "stream",
     "text": [
      "Using 'and' operator... False\n",
      "Using 'or' operator... True\n",
      "Using 'not' operator... True\n"
     ]
    }
   ],
   "source": [
    "'''The three types of Boolean operators are AND, OR, NOT'''\n",
    "res=sun_rises_east and sun_rises_west\n",
    "print(\"Using \\'and\\' operator...\",res)\n",
    "res2=sun_rises_east or sun_rises_west\n",
    "print(\"Using \\'or\\' operator...\",res2)\n",
    "res3=not sun_rises_west\n",
    "print(\"Using \\'not\\' operator...\",res3)"
   ]
  },
  {
   "cell_type": "markdown",
   "metadata": {},
   "source": [
    "3. Make a list of each Boolean operator's truth tables (i.e. every possible combination of Boolean values for the operator and what it evaluate ).\n"
   ]
  },
  {
   "cell_type": "code",
   "execution_count": 3,
   "metadata": {},
   "outputs": [
    {
     "name": "stdout",
     "output_type": "stream",
     "text": [
      "and Operator\n",
      "Using True and True..... True\n",
      "Using True and False..... False\n",
      "Using False and True..... False\n",
      "Using False and False..... False\n",
      "---------------------------------------\n",
      "or operator\n",
      "Using True or True..... True\n",
      "Using True or False..... True\n",
      "Using False or True..... True\n",
      "Using False or False..... False\n",
      "---------------------------------------\n",
      "not operator\n",
      "False\n"
     ]
    }
   ],
   "source": [
    "print(\"and Operator\")\n",
    "and1=sun_rises_east and sun_rises_east\n",
    "res1=print(\"Using True and True.....\",and1)\n",
    "and2=sun_rises_east and sun_rises_west\n",
    "res2=print(\"Using True and False.....\",and2)\n",
    "and3=sun_rises_west and sun_rises_east\n",
    "res3=print(\"Using False and True.....\",and3)\n",
    "and4=sun_rises_west and sun_rises_west\n",
    "res4=print(\"Using False and False.....\",and4)\n",
    "print(\"---------------------------------------\")\n",
    "\n",
    "print(\"or operator\")\n",
    "or1=sun_rises_east or sun_rises_east\n",
    "or_res1=print(\"Using True or True.....\",or1)\n",
    "or2=sun_rises_east or sun_rises_west\n",
    "or_res2=print(\"Using True or False.....\",or2)\n",
    "or3=sun_rises_west or sun_rises_east\n",
    "or_res3=print(\"Using False or True.....\",or3)\n",
    "or4=sun_rises_west or sun_rises_west\n",
    "or_res4=print(\"Using False or False.....\",or4)\n",
    "print(\"---------------------------------------\")\n",
    "\n",
    "print(\"not operator\")\n",
    "print(not sun_rises_east)"
   ]
  },
  {
   "cell_type": "markdown",
   "metadata": {},
   "source": [
    "4. What are the values of the following expressions?\n",
    "(5 > 4) and (3 == 5)\n",
    "not (5 > 4)\n",
    "(5 > 4) or (3 == 5)\n",
    "not ((5 > 4) or (3 == 5))\n",
    "(True and True) and (True == False)\n",
    "(not False) or (not True)\n"
   ]
  },
  {
   "cell_type": "code",
   "execution_count": 4,
   "metadata": {},
   "outputs": [
    {
     "data": {
      "text/plain": [
       "False"
      ]
     },
     "execution_count": 4,
     "metadata": {},
     "output_type": "execute_result"
    }
   ],
   "source": [
    "#Its True and False---->False\n",
    "(5>4)and(3==5)"
   ]
  },
  {
   "cell_type": "code",
   "execution_count": 5,
   "metadata": {},
   "outputs": [
    {
     "data": {
      "text/plain": [
       "False"
      ]
     },
     "execution_count": 5,
     "metadata": {},
     "output_type": "execute_result"
    }
   ],
   "source": [
    "#Its not true----> False\n",
    "not(5>4)"
   ]
  },
  {
   "cell_type": "code",
   "execution_count": 6,
   "metadata": {},
   "outputs": [
    {
     "data": {
      "text/plain": [
       "True"
      ]
     },
     "execution_count": 6,
     "metadata": {},
     "output_type": "execute_result"
    }
   ],
   "source": [
    "#Its true or false--->True\n",
    "(5>4)or(3==5)"
   ]
  },
  {
   "cell_type": "code",
   "execution_count": 7,
   "metadata": {},
   "outputs": [
    {
     "data": {
      "text/plain": [
       "False"
      ]
     },
     "execution_count": 7,
     "metadata": {},
     "output_type": "execute_result"
    }
   ],
   "source": [
    "#not true--->False\n",
    "not((5>4)or(3==5))"
   ]
  },
  {
   "cell_type": "code",
   "execution_count": 8,
   "metadata": {},
   "outputs": [
    {
     "data": {
      "text/plain": [
       "True"
      ]
     },
     "execution_count": 8,
     "metadata": {},
     "output_type": "execute_result"
    }
   ],
   "source": [
    "(not False)or(not True)"
   ]
  },
  {
   "cell_type": "markdown",
   "metadata": {},
   "source": [
    "5. What are the six comparison operators?\n"
   ]
  },
  {
   "cell_type": "code",
   "execution_count": 9,
   "metadata": {},
   "outputs": [
    {
     "data": {
      "text/plain": [
       "'The Six Comparision operators are \\n< less than\\n> greater than\\n<= less than or equal to\\n>= greater than or equal to\\n== is equal to\\n!= not equal to\\n'"
      ]
     },
     "execution_count": 9,
     "metadata": {},
     "output_type": "execute_result"
    }
   ],
   "source": [
    "'''The Six Comparision operators are \n",
    "< less than\n",
    "> greater than\n",
    "<= less than or equal to\n",
    ">= greater than or equal to\n",
    "== is equal to\n",
    "!= not equal to\n",
    "'''"
   ]
  },
  {
   "cell_type": "markdown",
   "metadata": {},
   "source": [
    "6. How do you tell the difference between the equal to and assignment operators?Describe a condition and when you would use one.\n"
   ]
  },
  {
   "cell_type": "code",
   "execution_count": 12,
   "metadata": {},
   "outputs": [
    {
     "name": "stdout",
     "output_type": "stream",
     "text": [
      "a and b has same value 3\n"
     ]
    }
   ],
   "source": [
    "# '=' is assignment operator and '==' is equal to\n",
    "a=3\n",
    "b=3\n",
    "if (a==b):\n",
    "    print(\"a and b has same value\",a)"
   ]
  },
  {
   "cell_type": "markdown",
   "metadata": {},
   "source": [
    "7. Identify the three blocks in this code:\n",
    "spam = 0\n",
    "if spam == 10:\n",
    "print('eggs')\n",
    "if spam > 5:\n",
    "print('bacon')\n",
    "else:\n",
    "print('ham')\n",
    "print('spam')\n",
    "print('spam')\n"
   ]
  },
  {
   "cell_type": "code",
   "execution_count": 13,
   "metadata": {},
   "outputs": [
    {
     "name": "stdout",
     "output_type": "stream",
     "text": [
      "eggs\n",
      "bacon\n"
     ]
    }
   ],
   "source": [
    "#There are three blocks in this program when spam is equal to 10 and when spam is greater than 5 & anything other than that \n",
    "spam = 10\n",
    "if spam == 10:\n",
    "    print('eggs')\n",
    "if spam > 5:\n",
    "    print('bacon')\n",
    "else:\n",
    "    print('ham')\n",
    "    print('spam')\n",
    "    print('spam')"
   ]
  },
  {
   "cell_type": "markdown",
   "metadata": {},
   "source": [
    "8. Write code that prints Hello if 1 is stored in spam, prints Howdy if 2 is stored in spam, and prints Greetings! if anything else is stored in spam.\n"
   ]
  },
  {
   "cell_type": "code",
   "execution_count": 14,
   "metadata": {},
   "outputs": [
    {
     "name": "stdout",
     "output_type": "stream",
     "text": [
      "Howdy\n"
     ]
    }
   ],
   "source": [
    "spam = 2\n",
    "if spam == 1:\n",
    "    print('Hello')\n",
    "elif spam == 2:\n",
    "    print('Howdy')\n",
    "else:\n",
    "    print('Greetings')"
   ]
  },
  {
   "cell_type": "markdown",
   "metadata": {},
   "source": [
    "9.If your programme is stuck in an endless loop, what keys you’ll press?\n"
   ]
  },
  {
   "cell_type": "code",
   "execution_count": 15,
   "metadata": {},
   "outputs": [
    {
     "data": {
      "text/plain": [
       "'By using interrupting the kernel option in the Toggle Toolbar and Toggle Headbar we can stop the loop which is processing'"
      ]
     },
     "execution_count": 15,
     "metadata": {},
     "output_type": "execute_result"
    }
   ],
   "source": [
    "'''By using interrupting the kernel option in the Toggle Toolbar and Toggle Headbar we can stop the loop which is processing'''"
   ]
  },
  {
   "cell_type": "markdown",
   "metadata": {},
   "source": [
    "10. How can you tell the difference between break and continue?\n"
   ]
  },
  {
   "cell_type": "code",
   "execution_count": 16,
   "metadata": {},
   "outputs": [
    {
     "name": "stdout",
     "output_type": "stream",
     "text": [
      "1\n",
      "2\n",
      "3\n",
      "4\n",
      "you have got the required number of people for the job role\n",
      "----------------------\n",
      "1\n",
      "2\n",
      "3\n",
      "4\n",
      "you have got the required number of people for the job role\n",
      "6\n",
      "7\n",
      "8\n",
      "9\n"
     ]
    }
   ],
   "source": [
    "'''Break Statement terminates the loop and the control will be out of the loop.\n",
    "In the below example break is used inside a nested if loop So control came out of the if loop'''\n",
    "#Example for Break Statement\n",
    "for i in range(1,10): \n",
    "    if i==5:\n",
    "        print(\"you have got the required number of people for the job role\")\n",
    "        break\n",
    "    print(i)\n",
    "\n",
    "print(\"----------------------\")\n",
    "'''Continue Statement skips the current iteration only i.e the statements below continue will not be implemented in the loop\n",
    "and the will not go out of the loop. In the below example continue is used inside a nested if loop and the statement below \n",
    "the continue is not working and doesnot printing the statement mentioned'''\n",
    "\n",
    "#Example for Continue Statement\n",
    "for i in range(1,10):\n",
    "    if i==5:\n",
    "        print(\"you have got the required number of people for the job role\")\n",
    "        continue\n",
    "        print(\"you had recruited extra people\")\n",
    "    print(i)"
   ]
  },
  {
   "cell_type": "markdown",
   "metadata": {},
   "source": [
    "11. In a for loop, what is the difference between range(10), range(0, 10), and range(0, 10, 1)?\n"
   ]
  },
  {
   "cell_type": "code",
   "execution_count": 17,
   "metadata": {},
   "outputs": [
    {
     "name": "stdout",
     "output_type": "stream",
     "text": [
      "0\n",
      "1\n",
      "2\n",
      "3\n",
      "4\n",
      "5\n",
      "6\n",
      "7\n",
      "8\n",
      "9\n",
      "-----------------------------------\n",
      "0\n",
      "1\n",
      "2\n",
      "3\n",
      "4\n",
      "5\n",
      "6\n",
      "7\n",
      "8\n",
      "9\n",
      "-----------------------------------\n",
      "0\n",
      "1\n",
      "2\n",
      "3\n",
      "4\n",
      "5\n",
      "6\n",
      "7\n",
      "8\n",
      "9\n",
      "-----------------------------------\n",
      "0\n",
      "2\n",
      "4\n",
      "6\n",
      "8\n"
     ]
    }
   ],
   "source": [
    "'''From the question all gives same result.\n",
    "range(10): means from the range 0 to 10 the iteration will be started (Excluding 10) means till 9\n",
    "range(0,10): means also means the same where it start from 0 and ends at 10 (Excluding 10) means till 9\n",
    "range(0,10,1): means starts from 0 ends at 10 (Excluding 10) means till 9 with a step size of 1'''\n",
    "for i in range(10):\n",
    "    print(i)\n",
    "print('-----------------------------------')\n",
    "for i in range(0,10):\n",
    "    print(i)\n",
    "print('-----------------------------------')\n",
    "for i in range(0,10,1):\n",
    "    print(i)\n",
    "print('-----------------------------------')\n",
    "for i in range(0,10,2):\n",
    "    print(i)"
   ]
  },
  {
   "cell_type": "markdown",
   "metadata": {},
   "source": [
    "12. Write a short program that prints the numbers 1 to 10 using a for loop. Then write an equivalent program that prints the numbers 1 to 10 using a while loop.\n"
   ]
  },
  {
   "cell_type": "code",
   "execution_count": 18,
   "metadata": {},
   "outputs": [
    {
     "name": "stdout",
     "output_type": "stream",
     "text": [
      "1\n",
      "2\n",
      "3\n",
      "4\n",
      "5\n",
      "6\n",
      "7\n",
      "8\n",
      "9\n",
      "10\n",
      "*************************\n",
      "1\n",
      "2\n",
      "3\n",
      "4\n",
      "5\n",
      "6\n",
      "7\n",
      "8\n",
      "9\n",
      "10\n"
     ]
    }
   ],
   "source": [
    "for i in range(1,11):\n",
    "    print(i)\n",
    "print('*************************')\n",
    "i=1\n",
    "while i in range(1,11):\n",
    "    print(i)\n",
    "    i=i+1"
   ]
  },
  {
   "cell_type": "markdown",
   "metadata": {},
   "source": [
    "13. If you had a function named bacon() inside a module named spam, how would you call it after importing spam?"
   ]
  },
  {
   "cell_type": "code",
   "execution_count": 19,
   "metadata": {},
   "outputs": [
    {
     "name": "stdout",
     "output_type": "stream",
     "text": [
      "importing Jupyter notebook from spam.ipynb\n",
      "Hey this is a bacon module\n"
     ]
    }
   ],
   "source": [
    "import import_ipynb\n",
    "import spam\n",
    "from spam import bacon\n",
    "bacon()"
   ]
  },
  {
   "cell_type": "code",
   "execution_count": null,
   "metadata": {},
   "outputs": [],
   "source": []
  }
 ],
 "metadata": {
  "kernelspec": {
   "display_name": "Python 3",
   "language": "python",
   "name": "python3"
  },
  "language_info": {
   "codemirror_mode": {
    "name": "ipython",
    "version": 3
   },
   "file_extension": ".py",
   "mimetype": "text/x-python",
   "name": "python",
   "nbconvert_exporter": "python",
   "pygments_lexer": "ipython3",
   "version": "3.8.3"
  }
 },
 "nbformat": 4,
 "nbformat_minor": 4
}
