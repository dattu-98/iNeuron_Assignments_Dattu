{
 "cells": [
  {
   "cell_type": "markdown",
   "metadata": {},
   "source": [
    "1) Add the current date to the text file today.txt as a string.\n"
   ]
  },
  {
   "cell_type": "code",
   "execution_count": 1,
   "metadata": {},
   "outputs": [],
   "source": [
    "import datetime\n",
    "dd=datetime.date.today()\n",
    "dd_str=str(dd)\n",
    "file=open(\"today.txt\",'w')\n",
    "file.writelines(dd_str)\n",
    "file.close()"
   ]
  },
  {
   "cell_type": "markdown",
   "metadata": {},
   "source": [
    "2) Read the text file today.txt into the string today_string\n"
   ]
  },
  {
   "cell_type": "code",
   "execution_count": 3,
   "metadata": {},
   "outputs": [
    {
     "name": "stdout",
     "output_type": "stream",
     "text": [
      "2021-05-23\n"
     ]
    }
   ],
   "source": [
    "today_file=open(\"today.txt\",'r')\n",
    "today_string=today_file.readline()\n",
    "print(today_string)"
   ]
  },
  {
   "cell_type": "markdown",
   "metadata": {},
   "source": [
    "3)  Parse the date from today_string."
   ]
  },
  {
   "cell_type": "code",
   "execution_count": 4,
   "metadata": {},
   "outputs": [
    {
     "name": "stdout",
     "output_type": "stream",
     "text": [
      "2021-05-23 00:00:00\n"
     ]
    }
   ],
   "source": [
    "date_obj=datetime.datetime.strptime(today_string,'%Y-%m-%d')\n",
    "print(date_obj)"
   ]
  },
  {
   "cell_type": "markdown",
   "metadata": {},
   "source": [
    "4)  List the files in your current directory"
   ]
  },
  {
   "cell_type": "code",
   "execution_count": 5,
   "metadata": {},
   "outputs": [
    {
     "data": {
      "text/plain": [
       "['.ipynb_checkpoints',\n",
       " '.jovianrc',\n",
       " 'books.csv',\n",
       " 'books.db',\n",
       " 'books1.db',\n",
       " 'data.db',\n",
       " 'example.db',\n",
       " 'For_Practice.ipynb',\n",
       " 'practice_2.ipynb',\n",
       " 'Python_Basic_Assignment_1.ipynb',\n",
       " 'Python_Basic_Assignment_10.ipynb',\n",
       " 'Python_Basic_Assignment_11.ipynb',\n",
       " 'Python_Basic_Assignment_12.ipynb',\n",
       " 'Python_Basic_Assignment_13.ipynb',\n",
       " 'Python_Basic_Assignment_14.ipynb',\n",
       " 'Python_Basic_Assignment_15.ipynb',\n",
       " 'Python_Basic_Assignment_16.ipynb',\n",
       " 'Python_Basic_Assignment_17.ipynb',\n",
       " 'Python_Basic_Assignment_18.ipynb',\n",
       " 'Python_Basic_Assignment_19.ipynb',\n",
       " 'Python_Basic_Assignment_2.ipynb',\n",
       " 'Python_Basic_Assignment_20.ipynb',\n",
       " 'Python_Basic_Assignment_21.ipynb',\n",
       " 'Python_Basic_Assignment_23.ipynb',\n",
       " 'Python_Basic_Assignment_3.ipynb',\n",
       " 'Python_Basic_Assignment_4.ipynb',\n",
       " 'Python_Basic_Assignment_5.ipynb',\n",
       " 'Python_Basic_Assignment_6.ipynb',\n",
       " 'Python_Basic_Assignment_7.ipynb',\n",
       " 'Python_Basic_Assignment_8.ipynb',\n",
       " 'Python_Basic_Assignment_9.ipynb',\n",
       " 'spam.ipynb',\n",
       " 'test.txt',\n",
       " 'today.txt',\n",
       " 'Untitled.ipynb',\n",
       " 'zoo.py',\n",
       " '__pycache__']"
      ]
     },
     "execution_count": 5,
     "metadata": {},
     "output_type": "execute_result"
    }
   ],
   "source": [
    "import os\n",
    "os.listdir()"
   ]
  },
  {
   "cell_type": "markdown",
   "metadata": {},
   "source": [
    "5) Create a list of all of the files in your parent directory (minimum five files should be available)."
   ]
  },
  {
   "cell_type": "code",
   "execution_count": 6,
   "metadata": {},
   "outputs": [
    {
     "data": {
      "text/plain": [
       "['.ipynb_checkpoints',\n",
       " 'Pythom_Programming_Basic',\n",
       " 'Python_Advanced',\n",
       " 'Python_Basic',\n",
       " 'Python_Programming_Advanced',\n",
       " 'Stock-MArket-Forecasting-master',\n",
       " 'Stock-MArket-Forecasting-master.zip',\n",
       " 'Untitled2.py']"
      ]
     },
     "execution_count": 6,
     "metadata": {},
     "output_type": "execute_result"
    }
   ],
   "source": [
    "path='C:\\\\Users\\\\User\\\\iNeuron Full Stack Data Science\\\\Assignments'\n",
    "os.listdir(path)"
   ]
  },
  {
   "cell_type": "markdown",
   "metadata": {},
   "source": [
    "6) Use multiprocessing to create three separate processes. Make each one wait a random number of seconds between one and five, print the current time, and then exit.\n"
   ]
  },
  {
   "cell_type": "code",
   "execution_count": 7,
   "metadata": {},
   "outputs": [
    {
     "name": "stdout",
     "output_type": "stream",
     "text": [
      "11:50:19\n",
      "11:50:21\n",
      "11:50:23\n"
     ]
    }
   ],
   "source": [
    "import threading \n",
    "import time\n",
    "\n",
    "def time1():\n",
    "        time.sleep(1)\n",
    "        now_time=time.localtime()\n",
    "        time_for=time.strftime(\"%H:%M:%S\",now_time)\n",
    "        print(time_for)\n",
    "def time2():\n",
    "        time.sleep(3)\n",
    "        now_time=time.localtime()\n",
    "        time_for=time.strftime(\"%H:%M:%S\",now_time)\n",
    "        print(time_for)\n",
    "def time3():\n",
    "        time.sleep(5)\n",
    "        now_time=time.localtime()\n",
    "        time_for=time.strftime(\"%H:%M:%S\",now_time)\n",
    "        print(time_for)\n",
    "\n",
    "t1 = threading.Thread(target=time1)  \n",
    "t2 = threading.Thread(target=time2)\n",
    "t3 = threading.Thread(target=time3)\n",
    "\n",
    "t1.start()\n",
    "t2.start()\n",
    "t3.start()"
   ]
  },
  {
   "cell_type": "markdown",
   "metadata": {},
   "source": [
    "7) Create a date object of your day of birth."
   ]
  },
  {
   "cell_type": "code",
   "execution_count": 9,
   "metadata": {},
   "outputs": [
    {
     "name": "stdout",
     "output_type": "stream",
     "text": [
      "1998-07-07\n"
     ]
    }
   ],
   "source": [
    "import datetime\n",
    "DOB=datetime.date(1998,7,7)\n",
    "print(DOB)"
   ]
  },
  {
   "cell_type": "markdown",
   "metadata": {},
   "source": [
    "8) What day of the week was your day of birth?\n"
   ]
  },
  {
   "cell_type": "code",
   "execution_count": 11,
   "metadata": {},
   "outputs": [
    {
     "name": "stdout",
     "output_type": "stream",
     "text": [
      "Tuesday\n"
     ]
    }
   ],
   "source": [
    "import datetime\n",
    "import calendar  \n",
    "def find_my_day(date):\n",
    "    born = datetime.datetime.strptime(date, '%Y %m %d').weekday()\n",
    "    return (calendar.day_name[born])\n",
    "date = '1998 07 07'\n",
    "print(find_my_day(date))"
   ]
  },
  {
   "cell_type": "markdown",
   "metadata": {},
   "source": [
    "9) When will you be (or when were you) 10,000 days old?\n"
   ]
  },
  {
   "cell_type": "code",
   "execution_count": 12,
   "metadata": {},
   "outputs": [
    {
     "name": "stdout",
     "output_type": "stream",
     "text": [
      "2025-11-22 00:00:00\n"
     ]
    }
   ],
   "source": [
    "from datetime import datetime, timedelta\n",
    "dob=datetime(1998,7,7)\n",
    "ten_thous=dob+timedelta(10000)\n",
    "print(ten_thous)"
   ]
  },
  {
   "cell_type": "code",
   "execution_count": null,
   "metadata": {},
   "outputs": [],
   "source": []
  }
 ],
 "metadata": {
  "kernelspec": {
   "display_name": "Python 3",
   "language": "python",
   "name": "python3"
  },
  "language_info": {
   "codemirror_mode": {
    "name": "ipython",
    "version": 3
   },
   "file_extension": ".py",
   "mimetype": "text/x-python",
   "name": "python",
   "nbconvert_exporter": "python",
   "pygments_lexer": "ipython3",
   "version": "3.8.3"
  }
 },
 "nbformat": 4,
 "nbformat_minor": 4
}
