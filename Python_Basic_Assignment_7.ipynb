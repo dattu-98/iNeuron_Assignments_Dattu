{
 "cells": [
  {
   "cell_type": "markdown",
   "metadata": {},
   "source": [
    "1) What is the name of the feature responsible for generating Regex objects?\n"
   ]
  },
  {
   "cell_type": "code",
   "execution_count": 1,
   "metadata": {},
   "outputs": [],
   "source": [
    "import re"
   ]
  },
  {
   "cell_type": "code",
   "execution_count": 3,
   "metadata": {},
   "outputs": [],
   "source": [
    "pat=re.compile(\"Dattu\")"
   ]
  },
  {
   "cell_type": "markdown",
   "metadata": {},
   "source": [
    "2) Why do raw strings often appear in Regex objects?\n"
   ]
  },
  {
   "cell_type": "code",
   "execution_count": 1,
   "metadata": {},
   "outputs": [],
   "source": [
    "#To handle the '\\w', '\\d', '\\b','\\B' matches with respect to the string we use 'r' in Regex Objects\n",
    "# Raw Strings are used then backslashes cant be escaped"
   ]
  },
  {
   "cell_type": "markdown",
   "metadata": {},
   "source": [
    "3) . What is the return value of the search() method?\n"
   ]
  },
  {
   "cell_type": "code",
   "execution_count": 4,
   "metadata": {},
   "outputs": [],
   "source": [
    "#A rejex objects method search the string that has been passed into by us with the favoured text we need.\n",
    "#If the value is found it returns the matching object or else return None if nothinng is found"
   ]
  },
  {
   "cell_type": "markdown",
   "metadata": {},
   "source": [
    "4) From a Match item, how do you get the actual strings that match the pattern?\n"
   ]
  },
  {
   "cell_type": "code",
   "execution_count": 6,
   "metadata": {},
   "outputs": [],
   "source": [
    "#The Group method returns the strings of the matched text\n",
    "string=\"2020PMT5387\"\n",
    "match_object=re.match(r'(\\d+)(\\w+)(\\d+)',string)"
   ]
  },
  {
   "cell_type": "code",
   "execution_count": 7,
   "metadata": {},
   "outputs": [
    {
     "name": "stdout",
     "output_type": "stream",
     "text": [
      "2020PMT5387\n"
     ]
    }
   ],
   "source": [
    "print(match_object.group())"
   ]
  },
  {
   "cell_type": "code",
   "execution_count": 8,
   "metadata": {},
   "outputs": [
    {
     "name": "stdout",
     "output_type": "stream",
     "text": [
      "2020\n"
     ]
    }
   ],
   "source": [
    "print(match_object.group(1))"
   ]
  },
  {
   "cell_type": "code",
   "execution_count": 9,
   "metadata": {},
   "outputs": [
    {
     "name": "stdout",
     "output_type": "stream",
     "text": [
      "PMT538\n"
     ]
    }
   ],
   "source": [
    "print(match_object.group(2))"
   ]
  },
  {
   "cell_type": "code",
   "execution_count": 10,
   "metadata": {},
   "outputs": [
    {
     "name": "stdout",
     "output_type": "stream",
     "text": [
      "7\n"
     ]
    }
   ],
   "source": [
    "print(match_object.group(3))"
   ]
  },
  {
   "cell_type": "markdown",
   "metadata": {},
   "source": [
    "5)  In the regex which created from the r'(\\d\\d\\d)-(\\d\\d\\d-\\d\\d\\d\\d)', what does group zero cover? Group 2? Group 1?\n"
   ]
  },
  {
   "cell_type": "code",
   "execution_count": 7,
   "metadata": {},
   "outputs": [],
   "source": [
    "#As first three digits considers it as group it returns the first three digits of the string passed"
   ]
  },
  {
   "cell_type": "code",
   "execution_count": 8,
   "metadata": {},
   "outputs": [
    {
     "data": {
      "text/plain": [
       "'123-156-7899'"
      ]
     },
     "execution_count": 8,
     "metadata": {},
     "output_type": "execute_result"
    }
   ],
   "source": [
    "import re\n",
    "id_obj=re.compile( r'(\\d\\d\\d)-(\\d\\d\\d-\\d\\d\\d\\d)')\n",
    "id=id_obj.search(\"My ID is 123-156-7899\")\n",
    "id.group()"
   ]
  },
  {
   "cell_type": "code",
   "execution_count": 9,
   "metadata": {},
   "outputs": [
    {
     "data": {
      "text/plain": [
       "'123'"
      ]
     },
     "execution_count": 9,
     "metadata": {},
     "output_type": "execute_result"
    }
   ],
   "source": [
    "id.group(1)"
   ]
  },
  {
   "cell_type": "code",
   "execution_count": 10,
   "metadata": {},
   "outputs": [
    {
     "data": {
      "text/plain": [
       "'156-7899'"
      ]
     },
     "execution_count": 10,
     "metadata": {},
     "output_type": "execute_result"
    }
   ],
   "source": [
    "id.group(2)"
   ]
  },
  {
   "cell_type": "markdown",
   "metadata": {},
   "source": [
    "6)  In standard expression syntax, parentheses and intervals have distinct meanings. How can you tell a regex that you want it to fit real parentheses and periods?\n"
   ]
  },
  {
   "cell_type": "code",
   "execution_count": 12,
   "metadata": {},
   "outputs": [],
   "source": [
    "string=\"2020(\"\n",
    "match_object=re.match(r'(\\d+)(\\()',string)"
   ]
  },
  {
   "cell_type": "code",
   "execution_count": 13,
   "metadata": {},
   "outputs": [
    {
     "name": "stdout",
     "output_type": "stream",
     "text": [
      "2020\n"
     ]
    }
   ],
   "source": [
    "print(match_object.group(1))"
   ]
  },
  {
   "cell_type": "code",
   "execution_count": 14,
   "metadata": {},
   "outputs": [
    {
     "name": "stdout",
     "output_type": "stream",
     "text": [
      "(\n"
     ]
    }
   ],
   "source": [
    "print(match_object.group(2))"
   ]
  },
  {
   "cell_type": "code",
   "execution_count": 15,
   "metadata": {},
   "outputs": [],
   "source": [
    "string=\"2020.\"\n",
    "search_obj=re.search(r'(\\.)',string)"
   ]
  },
  {
   "cell_type": "code",
   "execution_count": 16,
   "metadata": {},
   "outputs": [
    {
     "name": "stdout",
     "output_type": "stream",
     "text": [
      "<re.Match object; span=(4, 5), match='.'>\n"
     ]
    }
   ],
   "source": [
    "print(search_obj)"
   ]
  },
  {
   "cell_type": "markdown",
   "metadata": {},
   "source": [
    "7) The findall() method returns a string list or a list of string tuples. What causes it to return one of the two options?\n"
   ]
  },
  {
   "cell_type": "code",
   "execution_count": 11,
   "metadata": {},
   "outputs": [
    {
     "data": {
      "text/plain": [
       "['07-07-1998', '07-06-1973']"
      ]
     },
     "execution_count": 11,
     "metadata": {},
     "output_type": "execute_result"
    }
   ],
   "source": [
    "#It returns in the form of List of strings or string tuples.\n",
    "# If the regex has groups it returns list ofstring tuples\n",
    "# If the regex does not have any groups it returns list of strings\n",
    "DOB='Dattu was born on 07-07-1998 & Mommy was born on 07-06-1973'\n",
    "import re\n",
    "patrn=re.compile(r'\\d\\d-\\d\\d-\\d\\d\\d\\d')\n",
    "patrn.findall(DOB)"
   ]
  },
  {
   "cell_type": "markdown",
   "metadata": {},
   "source": [
    "8) In standard expressions, what does the | character mean?\n"
   ]
  },
  {
   "cell_type": "code",
   "execution_count": 16,
   "metadata": {},
   "outputs": [
    {
     "name": "stdout",
     "output_type": "stream",
     "text": [
      "Actual Values: Dog,Cat,Tiger,Lion,Cheetah,Panther\n",
      "['Cat', 'Tiger', 'Cheetah', 'Panther']\n"
     ]
    }
   ],
   "source": [
    "#The | character matches \"either, or\" between two groups.\n",
    "animals=\"Dog,Cat,Tiger,Lion,Cheetah,Panther\"\n",
    "print(\"Actual Values:\",animals)\n",
    "print(re.findall(r'(Cat|Tiger|Cheetah|Panther)',animals))"
   ]
  },
  {
   "cell_type": "markdown",
   "metadata": {},
   "source": [
    "9) In regular expressions, what does the \\ character stand for?\n"
   ]
  },
  {
   "cell_type": "code",
   "execution_count": 2,
   "metadata": {},
   "outputs": [],
   "source": [
    "#If we want to search for a particular character in the string we need to add the backslash character befor the needed char so that we can match with it "
   ]
  },
  {
   "cell_type": "markdown",
   "metadata": {},
   "source": [
    "10) In regular expressions, what is the difference between the + and * characters?\n"
   ]
  },
  {
   "cell_type": "code",
   "execution_count": 17,
   "metadata": {},
   "outputs": [
    {
     "data": {
      "text/plain": [
       "'\\n+ Symbol: The preceeding character should be continously repeated then we can find the word \\n***Atleast one time should be repeated***\\nex: abcd+e will tell us abcde,abcdde,abcddddde...\\n* Symbol: Asterick symbol is used after the required character and matches with the Regex and finds the word\\n***Words without the required character is also shown | Zero to infinite\\nex: abcd*e will tell abce,abcde,abcdde...\\n'"
      ]
     },
     "execution_count": 17,
     "metadata": {},
     "output_type": "execute_result"
    }
   ],
   "source": [
    "\"\"\"\n",
    "+ Symbol: The preceeding character should be continously repeated then we can find the word \n",
    "***Atleast one time should be repeated***\n",
    "ex: abcd+e will tell us abcde,abcdde,abcddddde...\n",
    "* Symbol: Asterick symbol is used after the required character and matches with the Regex and finds the word\n",
    "***Words without the required character is also shown | Zero to infinite\n",
    "ex: abcd*e will tell abce,abcde,abcdde...\n",
    "\"\"\"\n",
    "# + One or more\n",
    "# * Zero or more"
   ]
  },
  {
   "cell_type": "markdown",
   "metadata": {},
   "source": [
    "11)  What is the difference between {4} and {4,5} in regular expression?\n"
   ]
  },
  {
   "cell_type": "code",
   "execution_count": 18,
   "metadata": {},
   "outputs": [],
   "source": [
    "# {4} matches with 4 instances & {4,5} matches either 4 or 5 instances "
   ]
  },
  {
   "cell_type": "markdown",
   "metadata": {},
   "source": [
    "12) What do you mean by the \\d, \\w, and \\s shorthand character classes signify in regular expressions?\n"
   ]
  },
  {
   "cell_type": "code",
   "execution_count": 19,
   "metadata": {},
   "outputs": [],
   "source": [
    "# \\d--> Single digit character\n",
    "# \\w--> Single word character\n",
    "# \\s--> Single Space character"
   ]
  },
  {
   "cell_type": "markdown",
   "metadata": {},
   "source": [
    "13)  What do means by \\D, \\W, and \\S shorthand character classes signify in regular expressions?\n"
   ]
  },
  {
   "cell_type": "code",
   "execution_count": 20,
   "metadata": {},
   "outputs": [],
   "source": [
    "# \\D--> Returns a match where the string does not contains digits\n",
    "# \\W--> Returns a match where the string does not contains Words\n",
    "# \\S--> Returns a match where the string does not contains White Spaces"
   ]
  },
  {
   "cell_type": "markdown",
   "metadata": {},
   "source": [
    "14) What is the difference between .* and .*?\n"
   ]
  },
  {
   "cell_type": "code",
   "execution_count": 23,
   "metadata": {},
   "outputs": [
    {
     "name": "stdout",
     "output_type": "stream",
     "text": [
      "['abc...eee', '']\n"
     ]
    }
   ],
   "source": [
    "#Greedy Operator Matches regular expression . Zero times or more times\n",
    "strs=\"abc...eee\"\n",
    "print(re.findall('.*',strs))"
   ]
  },
  {
   "cell_type": "code",
   "execution_count": 24,
   "metadata": {},
   "outputs": [
    {
     "name": "stdout",
     "output_type": "stream",
     "text": [
      "['', 'a', '', 'b', '', 'c', '', '.', '', '.', '', '.', '', 'e', '', 'e', '', 'e', '']\n"
     ]
    }
   ],
   "source": [
    "# Non greedy operator macth means that regex engine matches as few characters as possible\n",
    "strs=\"abc...eee\"\n",
    "print(re.findall('.*?',strs))"
   ]
  },
  {
   "cell_type": "markdown",
   "metadata": {},
   "source": [
    "15) What is the syntax for matching both numbers and lowercase letters with a character class?\n"
   ]
  },
  {
   "cell_type": "code",
   "execution_count": 26,
   "metadata": {},
   "outputs": [
    {
     "data": {
      "text/plain": [
       "['d',\n",
       " 'a',\n",
       " 't',\n",
       " 't',\n",
       " 'u',\n",
       " '1',\n",
       " '9',\n",
       " '9',\n",
       " '8',\n",
       " 'm',\n",
       " 'o',\n",
       " 'm',\n",
       " 'm',\n",
       " 'y',\n",
       " '1',\n",
       " '9',\n",
       " '7',\n",
       " '3']"
      ]
     },
     "execution_count": 26,
     "metadata": {},
     "output_type": "execute_result"
    }
   ],
   "source": [
    "import re\n",
    "abc=re.compile(r'[0-9a-z]|[a-z0-9]')\n",
    "abc.findall('dattu1998*****mommy1973')"
   ]
  },
  {
   "cell_type": "markdown",
   "metadata": {},
   "source": [
    "16) What is the procedure for making a normal expression in regax case insensitive?\n"
   ]
  },
  {
   "cell_type": "code",
   "execution_count": 28,
   "metadata": {},
   "outputs": [
    {
     "data": {
      "text/plain": [
       "['D',\n",
       " 'A',\n",
       " 'T',\n",
       " 'T',\n",
       " 'U',\n",
       " '1',\n",
       " '9',\n",
       " '9',\n",
       " '8',\n",
       " 'M',\n",
       " 'O',\n",
       " 'M',\n",
       " 'M',\n",
       " 'Y',\n",
       " '1',\n",
       " '9',\n",
       " '7',\n",
       " '3']"
      ]
     },
     "execution_count": 28,
     "metadata": {},
     "output_type": "execute_result"
    }
   ],
   "source": [
    "#By passing re.I in the RE we can make Normal expression case insensitive\n",
    "import re\n",
    "abc=re.compile(r'[0-9a-z]',re.I)\n",
    "abc.findall('DATTU1998*****MOMMY1973')"
   ]
  },
  {
   "cell_type": "markdown",
   "metadata": {},
   "source": [
    "17) What does the . character normally match? What does it match if re.DOTALL is passed as 2nd argument in re.compile()?\n"
   ]
  },
  {
   "cell_type": "code",
   "execution_count": 29,
   "metadata": {},
   "outputs": [],
   "source": [
    "# The . character normally matches any char except the newline character\n",
    "# If we pass re.DOTAll . char also matches in the newline characters"
   ]
  },
  {
   "cell_type": "markdown",
   "metadata": {},
   "source": [
    "18)  If numReg = re.compile(r'\\d+'), what will numRegex.sub('X', '11 drummers, 10 pipers, five rings, 4 hen') return?\n"
   ]
  },
  {
   "cell_type": "code",
   "execution_count": 30,
   "metadata": {},
   "outputs": [
    {
     "data": {
      "text/plain": [
       "'X drummers, X pipers, five rings, X hen'"
      ]
     },
     "execution_count": 30,
     "metadata": {},
     "output_type": "execute_result"
    }
   ],
   "source": [
    "numReg = re.compile(r'\\d+')\n",
    "numReg.sub('X', '11 drummers, 10 pipers, five rings, 4 hen')"
   ]
  },
  {
   "cell_type": "markdown",
   "metadata": {},
   "source": [
    "19)  What does passing re.VERBOSE as the 2nd argument to re.compile() allow to do?\n"
   ]
  },
  {
   "cell_type": "code",
   "execution_count": 31,
   "metadata": {},
   "outputs": [],
   "source": [
    "email=re.compile(r\"\"\"\n",
    "                    ^([a-z0-9_\\.-]+) \n",
    "                     @                                                        ([0-9a-z\\.-]+)                 # Domain name\n",
    "                     \\.                           \n",
    "                     ([a-z]{2,6})$ \"\"\",re.VERBOSE | re.IGNORECASE)"
   ]
  },
  {
   "cell_type": "code",
   "execution_count": 32,
   "metadata": {},
   "outputs": [
    {
     "data": {
      "text/plain": [
       "'dattuthunuguntla@gmail.com'"
      ]
     },
     "execution_count": 32,
     "metadata": {},
     "output_type": "execute_result"
    }
   ],
   "source": [
    "senten=\"dattuthunuguntla@gmail.com\"\n",
    "id1=email.fullmatch(senten)\n",
    "id1.group()"
   ]
  },
  {
   "cell_type": "markdown",
   "metadata": {},
   "source": [
    "20)  How would you write a regex that match a number with comma for every three digits? It must match the given following:\n",
    "'42'\n",
    "'1,234'\n",
    "'6,368,745'\n",
    "but not the following:\n",
    "'12,34,567' (which has only two digits between the commas)\n",
    "'1234' (which lacks commas)\n"
   ]
  },
  {
   "cell_type": "code",
   "execution_count": 33,
   "metadata": {},
   "outputs": [],
   "source": [
    "def re_ma(n):\n",
    "    re_co=re.compile(r'^\\d{1,3}(,\\d{3})*$')\n",
    "    try:\n",
    "        pr=re_co.match(n)\n",
    "        print(pr.group())\n",
    "    except Exception as E:\n",
    "        print(E)"
   ]
  },
  {
   "cell_type": "code",
   "execution_count": 35,
   "metadata": {},
   "outputs": [
    {
     "name": "stdout",
     "output_type": "stream",
     "text": [
      "42\n"
     ]
    }
   ],
   "source": [
    "re_ma('42')"
   ]
  },
  {
   "cell_type": "code",
   "execution_count": 36,
   "metadata": {},
   "outputs": [
    {
     "name": "stdout",
     "output_type": "stream",
     "text": [
      "1,234\n"
     ]
    }
   ],
   "source": [
    "re_ma('1,234')"
   ]
  },
  {
   "cell_type": "code",
   "execution_count": 37,
   "metadata": {},
   "outputs": [
    {
     "name": "stdout",
     "output_type": "stream",
     "text": [
      "6,368,745\n"
     ]
    }
   ],
   "source": [
    "re_ma('6,368,745')"
   ]
  },
  {
   "cell_type": "code",
   "execution_count": 38,
   "metadata": {},
   "outputs": [
    {
     "name": "stdout",
     "output_type": "stream",
     "text": [
      "'NoneType' object has no attribute 'group'\n"
     ]
    }
   ],
   "source": [
    "re_ma('12,34,567')"
   ]
  },
  {
   "cell_type": "code",
   "execution_count": 39,
   "metadata": {},
   "outputs": [
    {
     "name": "stdout",
     "output_type": "stream",
     "text": [
      "'NoneType' object has no attribute 'group'\n"
     ]
    }
   ],
   "source": [
    "re_ma('1234')"
   ]
  },
  {
   "cell_type": "markdown",
   "metadata": {},
   "source": [
    "21)  How would you write a regex that matches the full name of someone whose last name is Watanabe? You can assume that the first name that comes before it will always be one word that begins with a capital letter. The regex must match the following:\n",
    "'Haruto Watanabe'\n",
    "'Alice Watanabe'\n",
    "'RoboCop Watanabe'\n",
    "but not the following:\n",
    "'haruto Watanabe' (where the first name is not capitalized)\n",
    "'Mr. Watanabe' (where the preceding word has a nonletter character)\n",
    "'Watanabe' (which has no first name)\n",
    "'Haruto watanabe' (where Watanabe is not capitalized)\n"
   ]
  },
  {
   "cell_type": "code",
   "execution_count": 40,
   "metadata": {},
   "outputs": [],
   "source": [
    "def re_name(name):\n",
    "    re_co=re.compile(r'[A-Z][a-z]*\\sWatanabe')\n",
    "    try:\n",
    "        pr=re_co.match(name)\n",
    "        print(pr.group())\n",
    "    except Exception as E:\n",
    "        print(E)"
   ]
  },
  {
   "cell_type": "code",
   "execution_count": 41,
   "metadata": {},
   "outputs": [
    {
     "name": "stdout",
     "output_type": "stream",
     "text": [
      "Haruto Watanabe\n"
     ]
    }
   ],
   "source": [
    "re_name('Haruto Watanabe')"
   ]
  },
  {
   "cell_type": "code",
   "execution_count": 42,
   "metadata": {},
   "outputs": [
    {
     "name": "stdout",
     "output_type": "stream",
     "text": [
      "Alice Watanabe\n"
     ]
    }
   ],
   "source": [
    "re_name('Alice Watanabe')"
   ]
  },
  {
   "cell_type": "code",
   "execution_count": 44,
   "metadata": {},
   "outputs": [
    {
     "name": "stdout",
     "output_type": "stream",
     "text": [
      "Robocop Watanabe\n"
     ]
    }
   ],
   "source": [
    "re_name('Robocop Watanabe')"
   ]
  },
  {
   "cell_type": "code",
   "execution_count": 45,
   "metadata": {},
   "outputs": [
    {
     "name": "stdout",
     "output_type": "stream",
     "text": [
      "'NoneType' object has no attribute 'group'\n"
     ]
    }
   ],
   "source": [
    "re_name('haruto Watanabe')"
   ]
  },
  {
   "cell_type": "markdown",
   "metadata": {},
   "source": [
    "22) How would you write a regex that matches a sentence where the first word is either Alice, Bob, or Carol; the second word is either eats, pets, or throws; the third word is apples, cats, or baseballs; and the sentence ends with a period? This regex should be case-insensitive. It must match the following:\n",
    "'Alice eats apples.'\n",
    "'Bob pets cats.'\n",
    "'Carol throws baseballs.'\n",
    "'Alice throws Apples.'\n",
    "'BOB EATS CATS.'\n",
    "but not the following:\n",
    "'RoboCop eats apples.'\n",
    "'ALICE THROWS FOOTBALLS.'\n",
    "'Carol eats 7 cats.'\n"
   ]
  },
  {
   "cell_type": "code",
   "execution_count": 53,
   "metadata": {},
   "outputs": [],
   "source": [
    "def re_macth_word(sen):\n",
    "    re_co=re.compile(r'(Alice|Bob|Carol)\\s(eats|pets|throws)\\s(apples|cats|baseballs)\\.', re.IGNORECASE)\n",
    "    try:\n",
    "        pr=re_co.match(sen)\n",
    "        print(pr.group())\n",
    "    except Exception as E:\n",
    "        print(E)"
   ]
  },
  {
   "cell_type": "code",
   "execution_count": 54,
   "metadata": {},
   "outputs": [
    {
     "name": "stdout",
     "output_type": "stream",
     "text": [
      "Alice eats apples.\n"
     ]
    }
   ],
   "source": [
    "re_macth_word('Alice eats apples.')"
   ]
  },
  {
   "cell_type": "code",
   "execution_count": 55,
   "metadata": {},
   "outputs": [
    {
     "name": "stdout",
     "output_type": "stream",
     "text": [
      "Bob pets cats.\n"
     ]
    }
   ],
   "source": [
    "re_macth_word('Bob pets cats.')"
   ]
  },
  {
   "cell_type": "code",
   "execution_count": 56,
   "metadata": {},
   "outputs": [
    {
     "name": "stdout",
     "output_type": "stream",
     "text": [
      "Carol throws baseballs.\n"
     ]
    }
   ],
   "source": [
    "re_macth_word('Carol throws baseballs.')"
   ]
  },
  {
   "cell_type": "code",
   "execution_count": 57,
   "metadata": {},
   "outputs": [
    {
     "name": "stdout",
     "output_type": "stream",
     "text": [
      "Alice throws Apples.\n"
     ]
    }
   ],
   "source": [
    "re_macth_word('Alice throws Apples.')"
   ]
  },
  {
   "cell_type": "code",
   "execution_count": 58,
   "metadata": {},
   "outputs": [
    {
     "name": "stdout",
     "output_type": "stream",
     "text": [
      "BOB EATS CATS.\n"
     ]
    }
   ],
   "source": [
    "re_macth_word('BOB EATS CATS.')"
   ]
  },
  {
   "cell_type": "code",
   "execution_count": 59,
   "metadata": {},
   "outputs": [
    {
     "name": "stdout",
     "output_type": "stream",
     "text": [
      "'NoneType' object has no attribute 'group'\n"
     ]
    }
   ],
   "source": [
    "re_macth_word('RoboCop eats apples.')"
   ]
  },
  {
   "cell_type": "code",
   "execution_count": 60,
   "metadata": {},
   "outputs": [
    {
     "name": "stdout",
     "output_type": "stream",
     "text": [
      "'NoneType' object has no attribute 'group'\n"
     ]
    }
   ],
   "source": [
    "re_macth_word('ALICE THROWS FOOTBALLS.')"
   ]
  },
  {
   "cell_type": "code",
   "execution_count": 61,
   "metadata": {},
   "outputs": [
    {
     "name": "stdout",
     "output_type": "stream",
     "text": [
      "'NoneType' object has no attribute 'group'\n"
     ]
    }
   ],
   "source": [
    "re_macth_word('Carol eats 7 cats.')"
   ]
  },
  {
   "cell_type": "code",
   "execution_count": null,
   "metadata": {},
   "outputs": [],
   "source": []
  }
 ],
 "metadata": {
  "kernelspec": {
   "display_name": "Python 3",
   "language": "python",
   "name": "python3"
  },
  "language_info": {
   "codemirror_mode": {
    "name": "ipython",
    "version": 3
   },
   "file_extension": ".py",
   "mimetype": "text/x-python",
   "name": "python",
   "nbconvert_exporter": "python",
   "pygments_lexer": "ipython3",
   "version": "3.8.3"
  }
 },
 "nbformat": 4,
 "nbformat_minor": 4
}
