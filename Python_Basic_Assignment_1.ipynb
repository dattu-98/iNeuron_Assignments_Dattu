{
 "cells": [
  {
   "cell_type": "code",
   "execution_count": 1,
   "metadata": {},
   "outputs": [],
   "source": [
    "#1.\tMathematical operators are: *, -, +, /   Values are: ‘hello’, -87.8"
   ]
  },
  {
   "cell_type": "code",
   "execution_count": 3,
   "metadata": {},
   "outputs": [
    {
     "data": {
      "text/plain": [
       "'Dattu'"
      ]
     },
     "execution_count": 3,
     "metadata": {},
     "output_type": "execute_result"
    }
   ],
   "source": [
    "''' 2.\tString can be defined as value representing the text and Variable can be defined as a name that can refer any value (or) reserved memory location to store any value\n",
    "Ex: var1= “Dattu” ……. Dattu indicates the string and var1 indicates the variable\n",
    "'''\n",
    "var1=\"Dattu\"\n",
    "var1"
   ]
  },
  {
   "cell_type": "code",
   "execution_count": 4,
   "metadata": {},
   "outputs": [
    {
     "name": "stdout",
     "output_type": "stream",
     "text": [
      "Data types of a,b,c,d....\n",
      "<class 'int'>\n",
      "<class 'str'>\n",
      "<class 'bool'>\n",
      "<class 'float'>\n"
     ]
    }
   ],
   "source": [
    "'''3.\tData types can be defined as categorization of data items. There are different data types in python:\n",
    "a.\tInteger(int): Variable stores the value as integers\n",
    "b.\tFloat(float): Variable stores the value as decimals\n",
    "c.\tBoolean(bool): Variable stores the value as True or False / 1 or 0\n",
    "d.\tString(str): Variable stores the value as text\n",
    "e.\tLists, tuple, dictionary can store multiple pieces of data.\n",
    "'''\n",
    "a,b,c,d=22,'Dattu',True,77.54\n",
    "print(\"Data types of a,b,c,d....\",type(a),type(b),type(c),type(d),sep='\\n')"
   ]
  },
  {
   "cell_type": "code",
   "execution_count": 5,
   "metadata": {},
   "outputs": [
    {
     "data": {
      "text/plain": [
       "'4.\\tAn expression is made up of values, variables, operators, which are performed according to the syntax of the language. The Interpreter evaluates the expression and display the result.'"
      ]
     },
     "execution_count": 5,
     "metadata": {},
     "output_type": "execute_result"
    }
   ],
   "source": [
    "'''4.\tAn expression is made up of values, variables, operators, which are performed according to the syntax of the language. The Interpreter evaluates the expression and display the result.'''"
   ]
  },
  {
   "cell_type": "code",
   "execution_count": 6,
   "metadata": {},
   "outputs": [
    {
     "name": "stdout",
     "output_type": "stream",
     "text": [
      "2500\n"
     ]
    }
   ],
   "source": [
    "'''5.\tStatements represent an action or command & an Expression is made up of values, variables, operators which gives a particular value.\n",
    "a.\tEx: Spam = 10 We are assigning value 10 to variable Spam, so it is called Assignment Statement. \n",
    "b.\tA=50\n",
    "B=50\n",
    "print(A*B)……. This gives a value of 2500. Expression\n",
    "'''\n",
    "A,B=50,50\n",
    "print(A*B)"
   ]
  },
  {
   "cell_type": "code",
   "execution_count": 7,
   "metadata": {},
   "outputs": [
    {
     "data": {
      "text/plain": [
       "23"
      ]
     },
     "execution_count": 7,
     "metadata": {},
     "output_type": "execute_result"
    }
   ],
   "source": [
    "bacon=22\n",
    "bacon+1"
   ]
  },
  {
   "cell_type": "code",
   "execution_count": 9,
   "metadata": {},
   "outputs": [
    {
     "data": {
      "text/plain": [
       "'spamspamspam'"
      ]
     },
     "execution_count": 9,
     "metadata": {},
     "output_type": "execute_result"
    }
   ],
   "source": [
    "'spam'+'spamspam'"
   ]
  },
  {
   "cell_type": "code",
   "execution_count": 10,
   "metadata": {},
   "outputs": [
    {
     "data": {
      "text/plain": [
       "'spamspamspam'"
      ]
     },
     "execution_count": 10,
     "metadata": {},
     "output_type": "execute_result"
    }
   ],
   "source": [
    "'spam'*3"
   ]
  },
  {
   "cell_type": "code",
   "execution_count": 11,
   "metadata": {},
   "outputs": [
    {
     "data": {
      "text/plain": [
       "100"
      ]
     },
     "execution_count": 11,
     "metadata": {},
     "output_type": "execute_result"
    }
   ],
   "source": [
    "'''8.\tWhile creating a variable name the first letter in the word should be ALPHABET. So eggs can be created as variable name while 100 can’t be created.'''\n",
    "eggs=100\n",
    "eggs"
   ]
  },
  {
   "cell_type": "code",
   "execution_count": 15,
   "metadata": {},
   "outputs": [
    {
     "data": {
      "text/plain": [
       "10"
      ]
     },
     "execution_count": 15,
     "metadata": {},
     "output_type": "execute_result"
    }
   ],
   "source": [
    "'''9.\tThe int() function converts a specified value to int if its string or float.\n",
    "The float() function converts a specified value to float if its in string or int format\n",
    "The str() function converts a specified value to string. This is mainly used String Concatenation.\n",
    "'''\n",
    "a=int('10')\n",
    "a"
   ]
  },
  {
   "cell_type": "code",
   "execution_count": 16,
   "metadata": {},
   "outputs": [
    {
     "data": {
      "text/plain": [
       "'10'"
      ]
     },
     "execution_count": 16,
     "metadata": {},
     "output_type": "execute_result"
    }
   ],
   "source": [
    "b=str(10)\n",
    "b"
   ]
  },
  {
   "cell_type": "code",
   "execution_count": 17,
   "metadata": {},
   "outputs": [
    {
     "data": {
      "text/plain": [
       "10.0"
      ]
     },
     "execution_count": 17,
     "metadata": {},
     "output_type": "execute_result"
    }
   ],
   "source": [
    "c=float(10)\n",
    "c"
   ]
  },
  {
   "cell_type": "code",
   "execution_count": 18,
   "metadata": {},
   "outputs": [
    {
     "data": {
      "text/plain": [
       "'I have eaten 99 Burritos'"
      ]
     },
     "execution_count": 18,
     "metadata": {},
     "output_type": "execute_result"
    }
   ],
   "source": [
    "'''10.\tIts string concatenation error. Two different data types like int & str can’t be concatenated. So we use String Concatenation.\n",
    "Wrong: ‘I have eaten ‘ + 99+’ Burritos’\n",
    "Right: ‘I have eaten ‘ + str(99)+’ Burritos’ \n",
    "'''\n",
    "'I have eaten '+ str(99)+' Burritos' "
   ]
  },
  {
   "cell_type": "code",
   "execution_count": null,
   "metadata": {},
   "outputs": [],
   "source": []
  }
 ],
 "metadata": {
  "kernelspec": {
   "display_name": "Python 3",
   "language": "python",
   "name": "python3"
  },
  "language_info": {
   "codemirror_mode": {
    "name": "ipython",
    "version": 3
   },
   "file_extension": ".py",
   "mimetype": "text/x-python",
   "name": "python",
   "nbconvert_exporter": "python",
   "pygments_lexer": "ipython3",
   "version": "3.8.3"
  }
 },
 "nbformat": 4,
 "nbformat_minor": 4
}
