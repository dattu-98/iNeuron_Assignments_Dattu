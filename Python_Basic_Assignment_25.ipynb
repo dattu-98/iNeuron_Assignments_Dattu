{
 "cells": [
  {
   "cell_type": "markdown",
   "metadata": {},
   "source": [
    "1) What is the difference between enclosing a list comprehension in square brackets and parentheses?\n"
   ]
  },
  {
   "cell_type": "code",
   "execution_count": 14,
   "metadata": {},
   "outputs": [
    {
     "name": "stdout",
     "output_type": "stream",
     "text": [
      "2\n",
      "[1, 2, 3, 4]\n",
      "[0, 1, 4, 9, 16, 25, 36, 49, 64, 81]\n",
      "LC: 184\n",
      "64\n",
      "0,1,4,9,16,25,36,49,64,81,\n",
      "\n",
      "GE: 112\n",
      "'tuple' object has no attribute 'append'\n"
     ]
    }
   ],
   "source": [
    "#Generators are useful when we need to describe the data without actually creating each element in sequence until we run or use the code \n",
    "import sys\n",
    "#This is called as List Comprehension\n",
    "#We can access the values from both\n",
    "x=[1,2,3]\n",
    "print(x[1])\n",
    "#print(\"size of LC\",sys.getsizeof(x))\n",
    "x.append(4)\n",
    "print(x)\n",
    "a=[n**2 for n in range(10)]\n",
    "print(a)\n",
    "print(\"LC:\",sys.getsizeof(a))\n",
    "#This is called as Generator expression\n",
    "y=(20,40,60)\n",
    "#print(\"Size of GE\",y[2])\n",
    "print(sys.getsizeof(y))\n",
    "b=(n**2 for n in range(10))\n",
    "#Here we had created but we cant print as if List comprehension,  We need to iterate through each element of the sequence. Then we get the output\n",
    "for i in b:\n",
    "    print(i,end=',')\n",
    "print('\\n')\n",
    "print(\"GE:\",sys.getsizeof(b))\n",
    "try:\n",
    "    y.append(80)\n",
    "    print(y)\n",
    "except Exception as E:\n",
    "    print(E)"
   ]
  },
  {
   "cell_type": "markdown",
   "metadata": {},
   "source": [
    "2) What is the relationship between generators and iterators?"
   ]
  },
  {
   "cell_type": "code",
   "execution_count": 16,
   "metadata": {},
   "outputs": [
    {
     "data": {
      "text/plain": [
       "True"
      ]
     },
     "execution_count": 16,
     "metadata": {},
     "output_type": "execute_result"
    }
   ],
   "source": [
    "# Generator is a subclass of Iterator.\n",
    "# If process is repeated more than one time by applying the same logic, then it is called Iteration.\n",
    "# Iterators are used with a class and local variable with keywords like iter(), next()\n",
    "# Generators also dose the same thing but it is defined inside a function & uses keyword called as yield instead of return.\n",
    "# They wont store the entire sequence in the memory\n",
    "import collections,types\n",
    "issubclass(types.GeneratorType,collections.abc.Iterator)"
   ]
  },
  {
   "cell_type": "markdown",
   "metadata": {},
   "source": [
    "3) What are the signs that a function is a generator function?\n"
   ]
  },
  {
   "cell_type": "code",
   "execution_count": 22,
   "metadata": {},
   "outputs": [],
   "source": [
    "#Generators usually defined inside a function & has yield keyword which iterates in the loop\n",
    "# With the help of next() keyword we get the next value.\n",
    "# In the below program we get values of even numbers in the range of 20"
   ]
  },
  {
   "cell_type": "code",
   "execution_count": 17,
   "metadata": {},
   "outputs": [],
   "source": [
    "def even(x):\n",
    "    while x>0:\n",
    "        for num in range(1,x):\n",
    "            if num%2==0:\n",
    "                yield num"
   ]
  },
  {
   "cell_type": "code",
   "execution_count": 18,
   "metadata": {},
   "outputs": [
    {
     "name": "stdout",
     "output_type": "stream",
     "text": [
      "2\n"
     ]
    }
   ],
   "source": [
    "a=even(20)\n",
    "print(next(a))"
   ]
  },
  {
   "cell_type": "code",
   "execution_count": 19,
   "metadata": {},
   "outputs": [
    {
     "name": "stdout",
     "output_type": "stream",
     "text": [
      "4\n"
     ]
    }
   ],
   "source": [
    "print(next(a))"
   ]
  },
  {
   "cell_type": "code",
   "execution_count": 20,
   "metadata": {},
   "outputs": [
    {
     "name": "stdout",
     "output_type": "stream",
     "text": [
      "6\n"
     ]
    }
   ],
   "source": [
    "print(next(a))"
   ]
  },
  {
   "cell_type": "code",
   "execution_count": 21,
   "metadata": {},
   "outputs": [
    {
     "name": "stdout",
     "output_type": "stream",
     "text": [
      "8\n"
     ]
    }
   ],
   "source": [
    "print(next(a))"
   ]
  },
  {
   "cell_type": "markdown",
   "metadata": {},
   "source": [
    "4)  What is the purpose of a yield statement?"
   ]
  },
  {
   "cell_type": "code",
   "execution_count": 23,
   "metadata": {},
   "outputs": [
    {
     "name": "stdout",
     "output_type": "stream",
     "text": [
      "1\n"
     ]
    }
   ],
   "source": [
    "# yield is keyword which is mostly used in Generator Expression inside a function.\n",
    "# It does not destroy the states of local variable when the function is called & executes from the last yield statement\n",
    "# Overhead memory is controlled \n",
    "def odd(numbers):\n",
    "    for num in numbers:\n",
    "        if num%2!=0:\n",
    "            yield num\n",
    "b=odd([1,2,3,4,5,6,7])\n",
    "print(next(b))"
   ]
  },
  {
   "cell_type": "code",
   "execution_count": 24,
   "metadata": {},
   "outputs": [
    {
     "name": "stdout",
     "output_type": "stream",
     "text": [
      "3\n"
     ]
    }
   ],
   "source": [
    "print(next(b))"
   ]
  },
  {
   "cell_type": "code",
   "execution_count": 25,
   "metadata": {},
   "outputs": [
    {
     "name": "stdout",
     "output_type": "stream",
     "text": [
      "5\n"
     ]
    }
   ],
   "source": [
    "print(next(b))"
   ]
  },
  {
   "cell_type": "code",
   "execution_count": 26,
   "metadata": {},
   "outputs": [
    {
     "name": "stdout",
     "output_type": "stream",
     "text": [
      "7\n"
     ]
    }
   ],
   "source": [
    "print(next(b))"
   ]
  },
  {
   "cell_type": "code",
   "execution_count": 27,
   "metadata": {},
   "outputs": [
    {
     "name": "stdout",
     "output_type": "stream",
     "text": [
      "1\n",
      "3\n",
      "5\n",
      "7\n"
     ]
    }
   ],
   "source": [
    "for num in odd([1,2,3,4,5,6,7]):\n",
    "    print(num)"
   ]
  },
  {
   "cell_type": "markdown",
   "metadata": {},
   "source": [
    "5) What is the relationship between map calls and list comprehensions? Make a comparison and contrast between the two.\n"
   ]
  },
  {
   "cell_type": "code",
   "execution_count": 29,
   "metadata": {},
   "outputs": [
    {
     "name": "stdout",
     "output_type": "stream",
     "text": [
      "[2, 4, 6, 8, 10, 12, 14]\n"
     ]
    }
   ],
   "source": [
    "#Basic working of map function when we want to utilize the function and values in list, tuples etc... Then we get the values in list, tuples\n",
    "#calling the function is easy incase of map()\n",
    "def pro2(num):\n",
    "    return num*2\n",
    "numbers=[1,2,3,4,5,6,7]\n",
    "#Create a map object\n",
    "a=map(pro2,numbers)\n",
    "print(list(a))"
   ]
  },
  {
   "cell_type": "code",
   "execution_count": 31,
   "metadata": {},
   "outputs": [],
   "source": [
    "#List comprehension execution is faster than map function when the mapping is huge and complex\n",
    "#Both the List Comprehension and Map calling does the same work mostly iterates through defined set of values. In Map as function is predefined it will be easy to understand for simple pro\n",
    "even=[num for num in range(1,20) if num%2==0]"
   ]
  },
  {
   "cell_type": "code",
   "execution_count": 32,
   "metadata": {},
   "outputs": [
    {
     "name": "stdout",
     "output_type": "stream",
     "text": [
      "[2, 4, 6, 8, 10, 12, 14, 16, 18]\n"
     ]
    }
   ],
   "source": [
    "print(even)"
   ]
  },
  {
   "cell_type": "code",
   "execution_count": null,
   "metadata": {},
   "outputs": [],
   "source": []
  }
 ],
 "metadata": {
  "kernelspec": {
   "display_name": "Python 3",
   "language": "python",
   "name": "python3"
  },
  "language_info": {
   "codemirror_mode": {
    "name": "ipython",
    "version": 3
   },
   "file_extension": ".py",
   "mimetype": "text/x-python",
   "name": "python",
   "nbconvert_exporter": "python",
   "pygments_lexer": "ipython3",
   "version": "3.8.3"
  }
 },
 "nbformat": 4,
 "nbformat_minor": 4
}
