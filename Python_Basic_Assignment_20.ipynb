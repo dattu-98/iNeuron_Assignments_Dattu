{
 "cells": [
  {
   "cell_type": "markdown",
   "metadata": {},
   "source": [
    "1) Set the variable test1 to the string 'This is a test of the emergency text system,' and save test1 to a file named test.txt.\n"
   ]
  },
  {
   "cell_type": "code",
   "execution_count": 1,
   "metadata": {},
   "outputs": [],
   "source": [
    "test1='This is a test of the emergency text system'\n",
    "file_name=open(\"test.txt\",\"a\")\n",
    "file_name.write(test1)\n",
    "file_name.close()"
   ]
  },
  {
   "cell_type": "markdown",
   "metadata": {},
   "source": [
    "2) Read the contents of the file test.txt into the variable test2. Is there a difference between test 1 and test 2?\n"
   ]
  },
  {
   "cell_type": "code",
   "execution_count": 2,
   "metadata": {},
   "outputs": [
    {
     "name": "stdout",
     "output_type": "stream",
     "text": [
      "['This is a test of the emergency text system']\n"
     ]
    }
   ],
   "source": [
    "test2=open(\"test.txt\",\"r\")\n",
    "print(test2.readlines())\n",
    "test2.close()"
   ]
  },
  {
   "cell_type": "markdown",
   "metadata": {},
   "source": [
    "3)  Create a CSV file called books.csv by using these lines:\n",
    "title,author,year\n",
    "The Weirdstone of Brisingamen,Alan Garner,1960\n",
    "Perdido Street Station,China Miéville,2000\n",
    "Thud!,Terry Pratchett,2005\n",
    "The Spellman Files,Lisa Lutz,2007\n",
    "Small Gods,Terry Pratchett,1992\n"
   ]
  },
  {
   "cell_type": "code",
   "execution_count": 4,
   "metadata": {},
   "outputs": [],
   "source": [
    "import csv\n",
    "with open(\"books.csv\",\"a\",newline='') as file:\n",
    "    write_obj=csv.writer(file)\n",
    "    write_obj.writerow([\"title\",\"author\",\"year\"])\n",
    "    write_obj.writerow([\"The Weirdstone of Brisingamen\",\"Alan Garner\",1960])\n",
    "    write_obj.writerow([\"Perdido Street Station\",\"China Miéville\",2000])\n",
    "    write_obj.writerow([\"Thud!\",\"Terry Pratchett\",2005])\n",
    "    write_obj.writerow([\"The Spellman Files\",\"Lisa Lutz\",2007])\n",
    "    write_obj.writerow([\"Small Gods\",\"Terry Pratchett\",1992])"
   ]
  },
  {
   "cell_type": "code",
   "execution_count": 6,
   "metadata": {},
   "outputs": [
    {
     "name": "stdout",
     "output_type": "stream",
     "text": [
      "['title', 'author', 'year']\n",
      "['The Weirdstone of Brisingamen', 'Alan Garner', '1960']\n",
      "['Perdido Street Station', 'China Miéville', '2000']\n",
      "['Thud!', 'Terry Pratchett', '2005']\n",
      "['The Spellman Files', 'Lisa Lutz', '2007']\n",
      "['Small Gods', 'Terry Pratchett', '1992']\n"
     ]
    }
   ],
   "source": [
    "with open(\"books.csv\",\"r\",newline='') as file:\n",
    "    read_obj=csv.reader(file)\n",
    "    for row in read_obj:\n",
    "        print(row)"
   ]
  },
  {
   "cell_type": "markdown",
   "metadata": {},
   "source": [
    "4)  Use the sqlite3 module to create a SQLite database called books.db, and a table called books with these fields: title (text), author (text), and year (integer).\n"
   ]
  },
  {
   "cell_type": "code",
   "execution_count": 10,
   "metadata": {},
   "outputs": [],
   "source": [
    "import sqlite3\n",
    "connection = sqlite3.connect('books1.db')"
   ]
  },
  {
   "cell_type": "code",
   "execution_count": 11,
   "metadata": {},
   "outputs": [],
   "source": [
    "cursor=connection.cursor()\n",
    "file=open(\"books.csv\")\n",
    "rows=csv.reader(file)"
   ]
  },
  {
   "cell_type": "markdown",
   "metadata": {},
   "source": [
    "5) Read books.csv and insert its data into the details table."
   ]
  },
  {
   "cell_type": "code",
   "execution_count": 17,
   "metadata": {},
   "outputs": [],
   "source": [
    "import pandas as pd\n",
    "df=pd.read_csv('books.csv')"
   ]
  },
  {
   "cell_type": "code",
   "execution_count": 18,
   "metadata": {},
   "outputs": [],
   "source": [
    "df.to_sql('details',connection,if_exists='append',index=False)"
   ]
  },
  {
   "cell_type": "code",
   "execution_count": 19,
   "metadata": {},
   "outputs": [
    {
     "data": {
      "text/plain": [
       "[('The Weirdstone of Brisingamen', 'Alan Garner', 1960),\n",
       " ('Perdido Street Station', 'China Mi�ville', 2000),\n",
       " ('Thud!', 'Terry Pratchett', 2005),\n",
       " ('The Spellman Files', 'Lisa Lutz', 2007),\n",
       " ('Small Gods', 'Terry Pratchett', 1992)]"
      ]
     },
     "execution_count": 19,
     "metadata": {},
     "output_type": "execute_result"
    }
   ],
   "source": [
    "cursor.execute('''SELECT * FROM details''').fetchall()"
   ]
  },
  {
   "cell_type": "markdown",
   "metadata": {},
   "source": [
    "6)  Select and print the title column from the book table in alphabetical order.\n"
   ]
  },
  {
   "cell_type": "code",
   "execution_count": 20,
   "metadata": {},
   "outputs": [
    {
     "data": {
      "text/plain": [
       "[('Perdido Street Station',),\n",
       " ('Small Gods',),\n",
       " ('The Spellman Files',),\n",
       " ('The Weirdstone of Brisingamen',),\n",
       " ('Thud!',)]"
      ]
     },
     "execution_count": 20,
     "metadata": {},
     "output_type": "execute_result"
    }
   ],
   "source": [
    "cursor.execute('''SELECT title FROM details\n",
    "ORDER BY title;''').fetchall()"
   ]
  },
  {
   "cell_type": "markdown",
   "metadata": {},
   "source": [
    "7) From the book table, select and print all columns in the order of publication"
   ]
  },
  {
   "cell_type": "code",
   "execution_count": 21,
   "metadata": {},
   "outputs": [
    {
     "data": {
      "text/plain": [
       "[('The Weirdstone of Brisingamen', 'Alan Garner', 1960),\n",
       " ('Small Gods', 'Terry Pratchett', 1992),\n",
       " ('Perdido Street Station', 'China Mi�ville', 2000),\n",
       " ('Thud!', 'Terry Pratchett', 2005),\n",
       " ('The Spellman Files', 'Lisa Lutz', 2007)]"
      ]
     },
     "execution_count": 21,
     "metadata": {},
     "output_type": "execute_result"
    }
   ],
   "source": [
    "cursor.execute('''SELECT * FROM details\n",
    "ORDER BY year;''').fetchall()"
   ]
  },
  {
   "cell_type": "markdown",
   "metadata": {},
   "source": [
    "8)  Use the sqlalchemy module to connect to the sqlite3 database books.db that you just made in exercise 6.\n"
   ]
  },
  {
   "cell_type": "code",
   "execution_count": 28,
   "metadata": {},
   "outputs": [],
   "source": [
    "from sqlalchemy import create_engine"
   ]
  },
  {
   "cell_type": "code",
   "execution_count": 29,
   "metadata": {},
   "outputs": [],
   "source": [
    "engine=create_engine('sqlite:///books1.db')"
   ]
  },
  {
   "cell_type": "code",
   "execution_count": 30,
   "metadata": {},
   "outputs": [
    {
     "name": "stdout",
     "output_type": "stream",
     "text": [
      "Engine(sqlite:///books1.db)\n"
     ]
    }
   ],
   "source": [
    "print(engine)"
   ]
  },
  {
   "cell_type": "code",
   "execution_count": 32,
   "metadata": {
    "scrolled": true
   },
   "outputs": [
    {
     "data": {
      "text/plain": [
       "[('The Weirdstone of Brisingamen', 'Alan Garner', 1960),\n",
       " ('Perdido Street Station', 'China Mi�ville', 2000),\n",
       " ('Thud!', 'Terry Pratchett', 2005),\n",
       " ('The Spellman Files', 'Lisa Lutz', 2007),\n",
       " ('Small Gods', 'Terry Pratchett', 1992)]"
      ]
     },
     "execution_count": 32,
     "metadata": {},
     "output_type": "execute_result"
    }
   ],
   "source": [
    "engine.execute('''SELECT * FROM DETAILS''').fetchall()"
   ]
  },
  {
   "cell_type": "markdown",
   "metadata": {},
   "source": [
    "9) Install the Redis server and the Python redis library (pip install redis) on your computer. Create a Redis hash called test with the fields count (1) and name ('Fester Bestertester'). Print all the fields for test.\n"
   ]
  },
  {
   "cell_type": "code",
   "execution_count": 33,
   "metadata": {},
   "outputs": [
    {
     "name": "stdout",
     "output_type": "stream",
     "text": [
      "Collecting redis\n",
      "  Downloading redis-3.5.3-py2.py3-none-any.whl (72 kB)\n",
      "Installing collected packages: redis\n",
      "Successfully installed redis-3.5.3\n"
     ]
    }
   ],
   "source": [
    "!pip install redis"
   ]
  },
  {
   "cell_type": "code",
   "execution_count": 34,
   "metadata": {},
   "outputs": [],
   "source": [
    "import redis"
   ]
  },
  {
   "cell_type": "code",
   "execution_count": 35,
   "metadata": {},
   "outputs": [],
   "source": [
    "r=redis.Redis(host='localhost',port=6379,db=0)"
   ]
  },
  {
   "cell_type": "code",
   "execution_count": 40,
   "metadata": {},
   "outputs": [
    {
     "name": "stderr",
     "output_type": "stream",
     "text": [
      "<ipython-input-40-97de2f097b4a>:1: DeprecationWarning: Redis.hmset() is deprecated. Use Redis.hset() instead.\n",
      "  r.hmset(\"test\",{\"count\":1,\"name\":\"Fester Bestertester\"})\n"
     ]
    },
    {
     "data": {
      "text/plain": [
       "True"
      ]
     },
     "execution_count": 40,
     "metadata": {},
     "output_type": "execute_result"
    }
   ],
   "source": [
    "r.hmset(\"test\",{\"count\":1,\"name\":\"Fester Bestertester\"})"
   ]
  },
  {
   "cell_type": "code",
   "execution_count": 41,
   "metadata": {},
   "outputs": [
    {
     "data": {
      "text/plain": [
       "{b'count': b'1', b'name': b'Fester Bestertester'}"
      ]
     },
     "execution_count": 41,
     "metadata": {},
     "output_type": "execute_result"
    }
   ],
   "source": [
    "r.hgetall(\"test\")"
   ]
  },
  {
   "cell_type": "markdown",
   "metadata": {},
   "source": [
    "10) Increment the count field of test and print it."
   ]
  },
  {
   "cell_type": "code",
   "execution_count": 42,
   "metadata": {},
   "outputs": [
    {
     "data": {
      "text/plain": [
       "2"
      ]
     },
     "execution_count": 42,
     "metadata": {},
     "output_type": "execute_result"
    }
   ],
   "source": [
    "r.hincrby(\"test\",\"count\",1)"
   ]
  },
  {
   "cell_type": "code",
   "execution_count": 43,
   "metadata": {},
   "outputs": [
    {
     "data": {
      "text/plain": [
       "{b'count': b'2', b'name': b'Fester Bestertester'}"
      ]
     },
     "execution_count": 43,
     "metadata": {},
     "output_type": "execute_result"
    }
   ],
   "source": [
    "r.hgetall('test')"
   ]
  },
  {
   "cell_type": "code",
   "execution_count": 44,
   "metadata": {},
   "outputs": [
    {
     "data": {
      "text/plain": [
       "b'2'"
      ]
     },
     "execution_count": 44,
     "metadata": {},
     "output_type": "execute_result"
    }
   ],
   "source": [
    "r.hget(\"test\",\"count\")"
   ]
  },
  {
   "cell_type": "code",
   "execution_count": null,
   "metadata": {},
   "outputs": [],
   "source": []
  }
 ],
 "metadata": {
  "kernelspec": {
   "display_name": "Python 3",
   "language": "python",
   "name": "python3"
  },
  "language_info": {
   "codemirror_mode": {
    "name": "ipython",
    "version": 3
   },
   "file_extension": ".py",
   "mimetype": "text/x-python",
   "name": "python",
   "nbconvert_exporter": "python",
   "pygments_lexer": "ipython3",
   "version": "3.8.3"
  }
 },
 "nbformat": 4,
 "nbformat_minor": 4
}
