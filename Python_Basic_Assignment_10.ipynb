{
 "cells": [
  {
   "cell_type": "markdown",
   "metadata": {},
   "source": [
    "1) How do you distinguish between shutil.copy() and shutil.copytree()?"
   ]
  },
  {
   "cell_type": "code",
   "execution_count": 1,
   "metadata": {},
   "outputs": [],
   "source": [
    "import os\n",
    "import shutil"
   ]
  },
  {
   "cell_type": "code",
   "execution_count": 9,
   "metadata": {},
   "outputs": [
    {
     "name": "stdout",
     "output_type": "stream",
     "text": [
      "C:/Users/User/iNeuron Full Stack Data Science/python_practice/Dattu.txt\n"
     ]
    }
   ],
   "source": [
    "#shutil - Utility functions for copying and archiving files and directory trees.\n",
    "%pwd\n",
    "\"\"\"Shutil.copy() will copy a single file that is mentioned in the source\n",
    "Shutil.copytree() will copy all the files in the folder that is mentioned in the source\"\"\"\n",
    "source=\"C:/Users/User/iNeuron Full Stack Data Science/Dattu.txt\"\n",
    "destination=\"C:/Users/User/iNeuron Full Stack Data Science/python_practice/\"\n",
    "dest=shutil.copy(source,destination)\n",
    "print(dest)"
   ]
  },
  {
   "cell_type": "code",
   "execution_count": 5,
   "metadata": {},
   "outputs": [],
   "source": [
    "source=\"C:/Users/User/iNeuron Full Stack Data Science/\"\n",
    "destination=\"F:\\Data Science\\Copy\""
   ]
  },
  {
   "cell_type": "code",
   "execution_count": 6,
   "metadata": {},
   "outputs": [
    {
     "name": "stdout",
     "output_type": "stream",
     "text": [
      "F:\\Data Science\\Copy\n"
     ]
    }
   ],
   "source": [
    "dest=shutil.copytree(source,destination)\n",
    "print(dest)"
   ]
  },
  {
   "cell_type": "markdown",
   "metadata": {},
   "source": [
    "2) What function is used to rename files??"
   ]
  },
  {
   "cell_type": "code",
   "execution_count": 10,
   "metadata": {},
   "outputs": [],
   "source": [
    "#with the help of os.rename method we can rename the files\n",
    "source_rename=\"C:/Users/User/iNeuron Full Stack Data Science/Dattu.txt\"\n",
    "destination_rename=\"C:/Users/User/iNeuron Full Stack Data Science/New_Dattu_Renamed.txt\"\n",
    "os.rename(source_rename,destination_rename)"
   ]
  },
  {
   "cell_type": "markdown",
   "metadata": {},
   "source": [
    "3) What is the difference between the delete functions in the send2trash and shutil modules?"
   ]
  },
  {
   "cell_type": "code",
   "execution_count": 11,
   "metadata": {},
   "outputs": [],
   "source": [
    "#send2trash deletes the files and sends to recycle bin (Trash)\n",
    "#shutil.rmtree permanently deletes the files and we cant restore the files\n",
    "file_path=\"C:/Users/User/iNeuron Full Stack Data Science/Dummy\"\n",
    "shutil.rmtree(file_path)"
   ]
  },
  {
   "cell_type": "markdown",
   "metadata": {},
   "source": [
    "4) ZipFile objects have a close() method just like File objects’ close() method. What ZipFile method is\n",
    "equivalent to File objects’ open() method?"
   ]
  },
  {
   "cell_type": "code",
   "execution_count": 12,
   "metadata": {},
   "outputs": [],
   "source": [
    "#sdfasd=open(\"Filepath\",'r')\n",
    "#dfsddf=ZipFile.open(\"Filename\",'r')\n",
    "#Both the methods closes the files\n",
    "#dfsddf.close()\n",
    "#sdfasd.close()"
   ]
  },
  {
   "cell_type": "markdown",
   "metadata": {},
   "source": [
    "5) Create a programme that searches a folder tree for files with a certain file extension (such as .pdf\n",
    "or .jpg). Copy these files from whatever location they are in to a new folder."
   ]
  },
  {
   "cell_type": "code",
   "execution_count": 16,
   "metadata": {},
   "outputs": [
    {
     "name": "stdout",
     "output_type": "stream",
     "text": [
      "Current Working Directory  C:\\Users\n",
      "*** User/iNeuron Full Stack Data Science/Assignments/Python_Basic ** ['.ipynb_checkpoints'] * ['.jovianrc', 'For_Practice.ipynb', 'Python_Basic_Assignment_1.ipynb', 'Python_Basic_Assignment_10.ipynb', 'Python_Basic_Assignment_2.ipynb', 'Python_Basic_Assignment_3.ipynb', 'Python_Basic_Assignment_4.ipynb', 'Python_Basic_Assignment_5.ipynb', 'Python_Basic_Assignment_6.ipynb', 'Python_Basic_Assignment_8.ipynb', 'Python_Basic_Assignment_9.ipynb', 'spam.ipynb']\n",
      "Coping User/iNeuron Full Stack Data Science/Assignments/Python_Basic\\For_Practice.ipynb to F:\\Data Science\\Copying_files\n",
      "Coping User/iNeuron Full Stack Data Science/Assignments/Python_Basic\\Python_Basic_Assignment_1.ipynb to F:\\Data Science\\Copying_files\n",
      "Coping User/iNeuron Full Stack Data Science/Assignments/Python_Basic\\Python_Basic_Assignment_10.ipynb to F:\\Data Science\\Copying_files\n",
      "Coping User/iNeuron Full Stack Data Science/Assignments/Python_Basic\\Python_Basic_Assignment_2.ipynb to F:\\Data Science\\Copying_files\n",
      "Coping User/iNeuron Full Stack Data Science/Assignments/Python_Basic\\Python_Basic_Assignment_3.ipynb to F:\\Data Science\\Copying_files\n",
      "Coping User/iNeuron Full Stack Data Science/Assignments/Python_Basic\\Python_Basic_Assignment_4.ipynb to F:\\Data Science\\Copying_files\n",
      "Coping User/iNeuron Full Stack Data Science/Assignments/Python_Basic\\Python_Basic_Assignment_5.ipynb to F:\\Data Science\\Copying_files\n",
      "Coping User/iNeuron Full Stack Data Science/Assignments/Python_Basic\\Python_Basic_Assignment_6.ipynb to F:\\Data Science\\Copying_files\n",
      "Coping User/iNeuron Full Stack Data Science/Assignments/Python_Basic\\Python_Basic_Assignment_8.ipynb to F:\\Data Science\\Copying_files\n",
      "Coping User/iNeuron Full Stack Data Science/Assignments/Python_Basic\\Python_Basic_Assignment_9.ipynb to F:\\Data Science\\Copying_files\n",
      "Coping User/iNeuron Full Stack Data Science/Assignments/Python_Basic\\spam.ipynb to F:\\Data Science\\Copying_files\n",
      "*** User/iNeuron Full Stack Data Science/Assignments/Python_Basic\\.ipynb_checkpoints ** [] * ['For_Practice-checkpoint.ipynb', 'Python_Basic_Assignment_1-checkpoint.ipynb', 'Python_Basic_Assignment_10-checkpoint.ipynb', 'Python_Basic_Assignment_2-checkpoint.ipynb', 'Python_Basic_Assignment_3-checkpoint.ipynb', 'Python_Basic_Assignment_4-checkpoint.ipynb', 'Python_Basic_Assignment_5-checkpoint.ipynb', 'Python_Basic_Assignment_6-checkpoint.ipynb', 'Python_Basic_Assignment_8-checkpoint.ipynb', 'Python_Basic_Assignment_9-checkpoint.ipynb', 'spam-checkpoint.ipynb']\n",
      "Coping User/iNeuron Full Stack Data Science/Assignments/Python_Basic\\.ipynb_checkpoints\\For_Practice-checkpoint.ipynb to F:\\Data Science\\Copying_files\n",
      "Coping User/iNeuron Full Stack Data Science/Assignments/Python_Basic\\.ipynb_checkpoints\\Python_Basic_Assignment_1-checkpoint.ipynb to F:\\Data Science\\Copying_files\n",
      "Coping User/iNeuron Full Stack Data Science/Assignments/Python_Basic\\.ipynb_checkpoints\\Python_Basic_Assignment_10-checkpoint.ipynb to F:\\Data Science\\Copying_files\n",
      "Coping User/iNeuron Full Stack Data Science/Assignments/Python_Basic\\.ipynb_checkpoints\\Python_Basic_Assignment_2-checkpoint.ipynb to F:\\Data Science\\Copying_files\n",
      "Coping User/iNeuron Full Stack Data Science/Assignments/Python_Basic\\.ipynb_checkpoints\\Python_Basic_Assignment_3-checkpoint.ipynb to F:\\Data Science\\Copying_files\n",
      "Coping User/iNeuron Full Stack Data Science/Assignments/Python_Basic\\.ipynb_checkpoints\\Python_Basic_Assignment_4-checkpoint.ipynb to F:\\Data Science\\Copying_files\n",
      "Coping User/iNeuron Full Stack Data Science/Assignments/Python_Basic\\.ipynb_checkpoints\\Python_Basic_Assignment_5-checkpoint.ipynb to F:\\Data Science\\Copying_files\n",
      "Coping User/iNeuron Full Stack Data Science/Assignments/Python_Basic\\.ipynb_checkpoints\\Python_Basic_Assignment_6-checkpoint.ipynb to F:\\Data Science\\Copying_files\n",
      "Coping User/iNeuron Full Stack Data Science/Assignments/Python_Basic\\.ipynb_checkpoints\\Python_Basic_Assignment_8-checkpoint.ipynb to F:\\Data Science\\Copying_files\n",
      "Coping User/iNeuron Full Stack Data Science/Assignments/Python_Basic\\.ipynb_checkpoints\\Python_Basic_Assignment_9-checkpoint.ipynb to F:\\Data Science\\Copying_files\n",
      "Coping User/iNeuron Full Stack Data Science/Assignments/Python_Basic\\.ipynb_checkpoints\\spam-checkpoint.ipynb to F:\\Data Science\\Copying_files\n"
     ]
    }
   ],
   "source": [
    "def copying_files(fold_dir,dest_dir,extensions):\n",
    "    #folder=os.path.abspath(folder)\n",
    "    #print(folder)\n",
    "    #destFolder=os.path.abspath(destFolder)\n",
    "    #print(destFolder)\n",
    "    #print('Looking in '+ folder+ ' for files with extensions of ', ','.join(extensions))\n",
    "    for foldername,subfolders,filenames in os.walk(fold_dir):\n",
    "        print(\"***\",foldername, \"**\", subfolders , \"*\",filenames)\n",
    "        for file in filenames:\n",
    "            name, extension = os.path.splitext(file)\n",
    "\n",
    "            if extension in extensions:\n",
    "                fileAbsPath = foldername + os.path.sep + file\n",
    "                print('Coping', fileAbsPath, 'to', dest_dir)\n",
    "                shutil.copy(fileAbsPath, dest_dir)\n",
    "    \n",
    "\n",
    "\n",
    "print(\"Current Working Directory \" , os.getcwd())\n",
    "os.chdir(\"C:\\\\Users\")\n",
    "extensions=['.ipynb']\n",
    "fold_dir='User/iNeuron Full Stack Data Science/Assignments/Python_Basic'\n",
    "dest_dir='F:\\Data Science\\Copying_files'\n",
    "copying_files(fold_dir,dest_dir,extensions)"
   ]
  },
  {
   "cell_type": "code",
   "execution_count": null,
   "metadata": {},
   "outputs": [],
   "source": []
  }
 ],
 "metadata": {
  "kernelspec": {
   "display_name": "Python 3",
   "language": "python",
   "name": "python3"
  },
  "language_info": {
   "codemirror_mode": {
    "name": "ipython",
    "version": 3
   },
   "file_extension": ".py",
   "mimetype": "text/x-python",
   "name": "python",
   "nbconvert_exporter": "python",
   "pygments_lexer": "ipython3",
   "version": "3.8.3"
  }
 },
 "nbformat": 4,
 "nbformat_minor": 4
}
